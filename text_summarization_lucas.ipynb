{
  "cells": [
    {
      "cell_type": "markdown",
      "metadata": {
        "id": "view-in-github",
        "colab_type": "text"
      },
      "source": [
        "<a href=\"https://colab.research.google.com/github/lucasphelipe18/Master1/blob/main/text_summarization_lucas.ipynb\" target=\"_parent\"><img src=\"https://colab.research.google.com/assets/colab-badge.svg\" alt=\"Open In Colab\"/></a>"
      ]
    },
    {
      "cell_type": "markdown",
      "metadata": {
        "id": "vGhM07QwSK9I"
      },
      "source": [
        "# Resumen de documentos - Método extractivo\n",
        "\n",
        "Este cuaderno tiene como objetivo desarrollar un proceso capaz de producir resúmenes de texto a través de técnicas de PNL utilizando el método de extracción."
      ]
    },
    {
      "cell_type": "markdown",
      "metadata": {
        "id": "p33n_x6mr9M1"
      },
      "source": [
        "**Fuente de datos**\n",
        "\n",
        "Los datos que usaremos en este trabajo se toman de Internet directamente del sitio de noticias de Associated Press. La sección 2 contiene el código crowler para capturar artículos.\n",
        "\n",
        "**Métricas de evaluación**\n",
        "\n",
        "Las métricas que usaremos en este trabajo están presentes en el paquete ROUGE. ROUGE incluye una serie de métricas destinadas a evaluar tareas de resumen y traducción de textos en el proceso de PNL (Procesamiento del Lenguaje Natural). A continuación se muestra una breve explicación de las principales métricas que utilizaremos:\n",
        "\n",
        "- **ROUGE-N**: mide el número de aciertos de 'n-gramas' entre la salida del resumen generado por el modelo y el texto de referencia. 'n-gramas' es una agrupación de palabras/tokens. 1 gramo consiste en una sola palabra, 2 gramos se refiere a dos palabras consecutivas, etc. ROUGE-N, N se refiere al 'n-grama' que se utilizará para la evaluación.\n",
        "\n",
        "- **ROUGE-L**: mide la secuencia más larga (LCS) entre la salida del modelo y la referencia. La idea es que cuantas más secuencias largas estén presentes en el resumen generado y en el texto de referencia, más similares serán estos textos.\n",
        "\n",
        "\n",
        "- **Recall**: cuenta el número de n-gramas coincidentes encontrados en la salida del modelo y en el texto de referencia (verdades positivas) dividido por el número total de n-gramas en el texto de referencia.\n",
        "<img src='https://miro.medium.com/max/1400/1*XEnhQJxKbEySimh1PPWPnQ.png' width=600>\n",
        "\n",
        "-**Precisión**: se calcula de la misma manera que el recall, pero dividimos la cantidad de n-gramas que coinciden entre la salida del modelo y el texto de referencia por la cantidad total de n-gramas de la salida del modelo.\n",
        "<img src='https://miro.medium.com/max/1400/1*aSd89F6kupr3znW71Qmb3Q.png' width=600>\n",
        "\n",
        "- **F1-Score**: utiliza recall y precisión para evaluar una mejor relación entre estos:\n",
        "<img src='https://miro.medium.com/max/1400/1*zYuwaCDNpYf51H5S4DpDRA.png' width=600>\n",
        "\n",
        "\n"
      ]
    },
    {
      "cell_type": "markdown",
      "metadata": {
        "id": "X8Ct_6XDz4r6"
      },
      "source": [
        "##**1 - Preparando el Ambiente**"
      ]
    },
    {
      "cell_type": "code",
      "execution_count": 51,
      "metadata": {
        "colab": {
          "base_uri": "https://localhost:8080/"
        },
        "id": "13TmHwCNSCM0",
        "outputId": "1ba70809-2a9a-4cff-f874-712511fffc9b"
      },
      "outputs": [
        {
          "output_type": "stream",
          "name": "stdout",
          "text": [
            "Looking in indexes: https://pypi.org/simple, https://us-python.pkg.dev/colab-wheels/public/simple/\n",
            "Requirement already satisfied: spacy in /usr/local/lib/python3.7/dist-packages (3.3.1)\n",
            "Requirement already satisfied: blis<0.8.0,>=0.4.0 in /usr/local/lib/python3.7/dist-packages (from spacy) (0.4.1)\n",
            "Requirement already satisfied: preshed<3.1.0,>=3.0.2 in /usr/local/lib/python3.7/dist-packages (from spacy) (3.0.6)\n",
            "Requirement already satisfied: tqdm<5.0.0,>=4.38.0 in /usr/local/lib/python3.7/dist-packages (from spacy) (4.64.0)\n",
            "Requirement already satisfied: wasabi<1.1.0,>=0.9.1 in /usr/local/lib/python3.7/dist-packages (from spacy) (0.9.1)\n",
            "Requirement already satisfied: catalogue<2.1.0,>=2.0.6 in /usr/local/lib/python3.7/dist-packages (from spacy) (2.0.7)\n",
            "Requirement already satisfied: langcodes<4.0.0,>=3.2.0 in /usr/local/lib/python3.7/dist-packages (from spacy) (3.3.0)\n",
            "Requirement already satisfied: srsly<3.0.0,>=2.4.3 in /usr/local/lib/python3.7/dist-packages (from spacy) (2.4.3)\n",
            "Requirement already satisfied: murmurhash<1.1.0,>=0.28.0 in /usr/local/lib/python3.7/dist-packages (from spacy) (1.0.7)\n",
            "Requirement already satisfied: thinc<8.1.0,>=8.0.14 in /usr/local/lib/python3.7/dist-packages (from spacy) (8.0.17)\n",
            "Requirement already satisfied: requests<3.0.0,>=2.13.0 in /usr/local/lib/python3.7/dist-packages (from spacy) (2.23.0)\n",
            "Requirement already satisfied: jinja2 in /usr/local/lib/python3.7/dist-packages (from spacy) (2.11.3)\n",
            "Requirement already satisfied: typer<0.5.0,>=0.3.0 in /usr/local/lib/python3.7/dist-packages (from spacy) (0.4.1)\n",
            "Requirement already satisfied: spacy-loggers<2.0.0,>=1.0.0 in /usr/local/lib/python3.7/dist-packages (from spacy) (1.0.2)\n",
            "Requirement already satisfied: typing-extensions<4.2.0,>=3.7.4 in /usr/local/lib/python3.7/dist-packages (from spacy) (4.1.1)\n",
            "Requirement already satisfied: setuptools in /usr/local/lib/python3.7/dist-packages (from spacy) (57.4.0)\n",
            "Requirement already satisfied: spacy-legacy<3.1.0,>=3.0.9 in /usr/local/lib/python3.7/dist-packages (from spacy) (3.0.9)\n",
            "Requirement already satisfied: numpy>=1.15.0 in /usr/local/lib/python3.7/dist-packages (from spacy) (1.21.6)\n",
            "Requirement already satisfied: pathy>=0.3.5 in /usr/local/lib/python3.7/dist-packages (from spacy) (0.6.1)\n",
            "Requirement already satisfied: pydantic!=1.8,!=1.8.1,<1.9.0,>=1.7.4 in /usr/local/lib/python3.7/dist-packages (from spacy) (1.8.2)\n",
            "Requirement already satisfied: packaging>=20.0 in /usr/local/lib/python3.7/dist-packages (from spacy) (21.3)\n",
            "Requirement already satisfied: cymem<2.1.0,>=2.0.2 in /usr/local/lib/python3.7/dist-packages (from spacy) (2.0.6)\n",
            "Requirement already satisfied: zipp>=0.5 in /usr/local/lib/python3.7/dist-packages (from catalogue<2.1.0,>=2.0.6->spacy) (3.8.0)\n",
            "Requirement already satisfied: pyparsing!=3.0.5,>=2.0.2 in /usr/local/lib/python3.7/dist-packages (from packaging>=20.0->spacy) (3.0.9)\n",
            "Requirement already satisfied: smart-open<6.0.0,>=5.0.0 in /usr/local/lib/python3.7/dist-packages (from pathy>=0.3.5->spacy) (5.2.1)\n",
            "Requirement already satisfied: chardet<4,>=3.0.2 in /usr/local/lib/python3.7/dist-packages (from requests<3.0.0,>=2.13.0->spacy) (3.0.4)\n",
            "Requirement already satisfied: urllib3!=1.25.0,!=1.25.1,<1.26,>=1.21.1 in /usr/local/lib/python3.7/dist-packages (from requests<3.0.0,>=2.13.0->spacy) (1.24.3)\n",
            "Requirement already satisfied: idna<3,>=2.5 in /usr/local/lib/python3.7/dist-packages (from requests<3.0.0,>=2.13.0->spacy) (2.10)\n",
            "Requirement already satisfied: certifi>=2017.4.17 in /usr/local/lib/python3.7/dist-packages (from requests<3.0.0,>=2.13.0->spacy) (2022.5.18.1)\n",
            "Requirement already satisfied: click<9.0.0,>=7.1.1 in /usr/local/lib/python3.7/dist-packages (from typer<0.5.0,>=0.3.0->spacy) (7.1.2)\n",
            "Requirement already satisfied: MarkupSafe>=0.23 in /usr/local/lib/python3.7/dist-packages (from jinja2->spacy) (2.0.1)\n"
          ]
        }
      ],
      "source": [
        "!pip install -U spacy"
      ]
    },
    {
      "cell_type": "code",
      "execution_count": 52,
      "metadata": {
        "colab": {
          "base_uri": "https://localhost:8080/"
        },
        "id": "kFemV2x2Sp2X",
        "outputId": "bee62dbb-d4fe-4179-df81-18735c01b527"
      },
      "outputs": [
        {
          "output_type": "stream",
          "name": "stdout",
          "text": [
            "Looking in indexes: https://pypi.org/simple, https://us-python.pkg.dev/colab-wheels/public/simple/\n",
            "Collecting en-core-web-sm==3.3.0\n",
            "  Downloading https://github.com/explosion/spacy-models/releases/download/en_core_web_sm-3.3.0/en_core_web_sm-3.3.0-py3-none-any.whl (12.8 MB)\n",
            "\u001b[K     |████████████████████████████████| 12.8 MB 5.5 MB/s \n",
            "\u001b[?25hRequirement already satisfied: spacy<3.4.0,>=3.3.0.dev0 in /usr/local/lib/python3.7/dist-packages (from en-core-web-sm==3.3.0) (3.3.1)\n",
            "Requirement already satisfied: wasabi<1.1.0,>=0.9.1 in /usr/local/lib/python3.7/dist-packages (from spacy<3.4.0,>=3.3.0.dev0->en-core-web-sm==3.3.0) (0.9.1)\n",
            "Requirement already satisfied: pathy>=0.3.5 in /usr/local/lib/python3.7/dist-packages (from spacy<3.4.0,>=3.3.0.dev0->en-core-web-sm==3.3.0) (0.6.1)\n",
            "Requirement already satisfied: typing-extensions<4.2.0,>=3.7.4 in /usr/local/lib/python3.7/dist-packages (from spacy<3.4.0,>=3.3.0.dev0->en-core-web-sm==3.3.0) (4.1.1)\n",
            "Requirement already satisfied: tqdm<5.0.0,>=4.38.0 in /usr/local/lib/python3.7/dist-packages (from spacy<3.4.0,>=3.3.0.dev0->en-core-web-sm==3.3.0) (4.64.0)\n",
            "Requirement already satisfied: blis<0.8.0,>=0.4.0 in /usr/local/lib/python3.7/dist-packages (from spacy<3.4.0,>=3.3.0.dev0->en-core-web-sm==3.3.0) (0.4.1)\n",
            "Requirement already satisfied: setuptools in /usr/local/lib/python3.7/dist-packages (from spacy<3.4.0,>=3.3.0.dev0->en-core-web-sm==3.3.0) (57.4.0)\n",
            "Requirement already satisfied: murmurhash<1.1.0,>=0.28.0 in /usr/local/lib/python3.7/dist-packages (from spacy<3.4.0,>=3.3.0.dev0->en-core-web-sm==3.3.0) (1.0.7)\n",
            "Requirement already satisfied: requests<3.0.0,>=2.13.0 in /usr/local/lib/python3.7/dist-packages (from spacy<3.4.0,>=3.3.0.dev0->en-core-web-sm==3.3.0) (2.23.0)\n",
            "Requirement already satisfied: srsly<3.0.0,>=2.4.3 in /usr/local/lib/python3.7/dist-packages (from spacy<3.4.0,>=3.3.0.dev0->en-core-web-sm==3.3.0) (2.4.3)\n",
            "Requirement already satisfied: preshed<3.1.0,>=3.0.2 in /usr/local/lib/python3.7/dist-packages (from spacy<3.4.0,>=3.3.0.dev0->en-core-web-sm==3.3.0) (3.0.6)\n",
            "Requirement already satisfied: jinja2 in /usr/local/lib/python3.7/dist-packages (from spacy<3.4.0,>=3.3.0.dev0->en-core-web-sm==3.3.0) (2.11.3)\n",
            "Requirement already satisfied: langcodes<4.0.0,>=3.2.0 in /usr/local/lib/python3.7/dist-packages (from spacy<3.4.0,>=3.3.0.dev0->en-core-web-sm==3.3.0) (3.3.0)\n",
            "Requirement already satisfied: catalogue<2.1.0,>=2.0.6 in /usr/local/lib/python3.7/dist-packages (from spacy<3.4.0,>=3.3.0.dev0->en-core-web-sm==3.3.0) (2.0.7)\n",
            "Requirement already satisfied: pydantic!=1.8,!=1.8.1,<1.9.0,>=1.7.4 in /usr/local/lib/python3.7/dist-packages (from spacy<3.4.0,>=3.3.0.dev0->en-core-web-sm==3.3.0) (1.8.2)\n",
            "Requirement already satisfied: packaging>=20.0 in /usr/local/lib/python3.7/dist-packages (from spacy<3.4.0,>=3.3.0.dev0->en-core-web-sm==3.3.0) (21.3)\n",
            "Requirement already satisfied: typer<0.5.0,>=0.3.0 in /usr/local/lib/python3.7/dist-packages (from spacy<3.4.0,>=3.3.0.dev0->en-core-web-sm==3.3.0) (0.4.1)\n",
            "Requirement already satisfied: thinc<8.1.0,>=8.0.14 in /usr/local/lib/python3.7/dist-packages (from spacy<3.4.0,>=3.3.0.dev0->en-core-web-sm==3.3.0) (8.0.17)\n",
            "Requirement already satisfied: numpy>=1.15.0 in /usr/local/lib/python3.7/dist-packages (from spacy<3.4.0,>=3.3.0.dev0->en-core-web-sm==3.3.0) (1.21.6)\n",
            "Requirement already satisfied: cymem<2.1.0,>=2.0.2 in /usr/local/lib/python3.7/dist-packages (from spacy<3.4.0,>=3.3.0.dev0->en-core-web-sm==3.3.0) (2.0.6)\n",
            "Requirement already satisfied: spacy-legacy<3.1.0,>=3.0.9 in /usr/local/lib/python3.7/dist-packages (from spacy<3.4.0,>=3.3.0.dev0->en-core-web-sm==3.3.0) (3.0.9)\n",
            "Requirement already satisfied: spacy-loggers<2.0.0,>=1.0.0 in /usr/local/lib/python3.7/dist-packages (from spacy<3.4.0,>=3.3.0.dev0->en-core-web-sm==3.3.0) (1.0.2)\n",
            "Requirement already satisfied: zipp>=0.5 in /usr/local/lib/python3.7/dist-packages (from catalogue<2.1.0,>=2.0.6->spacy<3.4.0,>=3.3.0.dev0->en-core-web-sm==3.3.0) (3.8.0)\n",
            "Requirement already satisfied: pyparsing!=3.0.5,>=2.0.2 in /usr/local/lib/python3.7/dist-packages (from packaging>=20.0->spacy<3.4.0,>=3.3.0.dev0->en-core-web-sm==3.3.0) (3.0.9)\n",
            "Requirement already satisfied: smart-open<6.0.0,>=5.0.0 in /usr/local/lib/python3.7/dist-packages (from pathy>=0.3.5->spacy<3.4.0,>=3.3.0.dev0->en-core-web-sm==3.3.0) (5.2.1)\n",
            "Requirement already satisfied: urllib3!=1.25.0,!=1.25.1,<1.26,>=1.21.1 in /usr/local/lib/python3.7/dist-packages (from requests<3.0.0,>=2.13.0->spacy<3.4.0,>=3.3.0.dev0->en-core-web-sm==3.3.0) (1.24.3)\n",
            "Requirement already satisfied: chardet<4,>=3.0.2 in /usr/local/lib/python3.7/dist-packages (from requests<3.0.0,>=2.13.0->spacy<3.4.0,>=3.3.0.dev0->en-core-web-sm==3.3.0) (3.0.4)\n",
            "Requirement already satisfied: idna<3,>=2.5 in /usr/local/lib/python3.7/dist-packages (from requests<3.0.0,>=2.13.0->spacy<3.4.0,>=3.3.0.dev0->en-core-web-sm==3.3.0) (2.10)\n",
            "Requirement already satisfied: certifi>=2017.4.17 in /usr/local/lib/python3.7/dist-packages (from requests<3.0.0,>=2.13.0->spacy<3.4.0,>=3.3.0.dev0->en-core-web-sm==3.3.0) (2022.5.18.1)\n",
            "Requirement already satisfied: click<9.0.0,>=7.1.1 in /usr/local/lib/python3.7/dist-packages (from typer<0.5.0,>=0.3.0->spacy<3.4.0,>=3.3.0.dev0->en-core-web-sm==3.3.0) (7.1.2)\n",
            "Requirement already satisfied: MarkupSafe>=0.23 in /usr/local/lib/python3.7/dist-packages (from jinja2->spacy<3.4.0,>=3.3.0.dev0->en-core-web-sm==3.3.0) (2.0.1)\n",
            "\u001b[38;5;2m✔ Download and installation successful\u001b[0m\n",
            "You can now load the package via spacy.load('en_core_web_sm')\n"
          ]
        }
      ],
      "source": [
        "# download all data and models\n",
        "#!sudo python -m spacy.en.download all\n",
        "!sudo python3 -m spacy download en_core_web_sm"
      ]
    },
    {
      "cell_type": "code",
      "execution_count": 53,
      "metadata": {
        "colab": {
          "base_uri": "https://localhost:8080/"
        },
        "id": "EDlloxbFkIhI",
        "outputId": "4b9ebfa2-b9dd-4200-adf0-5ac37de83dfa"
      },
      "outputs": [
        {
          "output_type": "stream",
          "name": "stdout",
          "text": [
            "Looking in indexes: https://pypi.org/simple, https://us-python.pkg.dev/colab-wheels/public/simple/\n",
            "Requirement already satisfied: nltk in /usr/local/lib/python3.7/dist-packages (3.2.5)\n",
            "Requirement already satisfied: six in /usr/local/lib/python3.7/dist-packages (from nltk) (1.15.0)\n"
          ]
        }
      ],
      "source": [
        "# instalando nltk, tool kit para trabajos con nlp\n",
        "!pip install nltk"
      ]
    },
    {
      "cell_type": "code",
      "execution_count": 54,
      "metadata": {
        "id": "CvLt5NA5Po50"
      },
      "outputs": [],
      "source": [
        "# download tokenized final cleaned\n",
        "# !gdown --id 1YXkF_ugMx1HYCBBYF7VKq0Lujzif1JES"
      ]
    },
    {
      "cell_type": "code",
      "execution_count": 55,
      "metadata": {
        "id": "c0KdbGPOZ5MY"
      },
      "outputs": [],
      "source": [
        "import pandas as pd\n",
        "from tqdm.notebook import tqdm_notebook\n",
        "tqdm_notebook.pandas() # usar .progress_apply() instead apply()"
      ]
    },
    {
      "cell_type": "markdown",
      "metadata": {
        "id": "o30bEXAsTB5f"
      },
      "source": [
        "##**2 - Obtención y preparación de datos**\n"
      ]
    },
    {
      "cell_type": "markdown",
      "metadata": {
        "id": "NBKPD3tmqkoF"
      },
      "source": [
        "###**2.1 - Captura de datos de la web**"
      ]
    },
    {
      "cell_type": "code",
      "execution_count": 56,
      "metadata": {
        "id": "YOVXAGpqqnpj"
      },
      "outputs": [],
      "source": [
        "import requests\n",
        "from bs4 import BeautifulSoup\n",
        "from datetime import datetime\n",
        "import pandas as pd\n",
        "import json\n",
        "import re"
      ]
    },
    {
      "cell_type": "code",
      "execution_count": 57,
      "metadata": {
        "id": "tE8g94GJqrd-"
      },
      "outputs": [],
      "source": [
        "def striphtml(data):\n",
        "    p = re.compile(r'<.*?>')\n",
        "    return p.sub('', data)"
      ]
    },
    {
      "cell_type": "code",
      "execution_count": 58,
      "metadata": {
        "id": "uYxyuxoEqtmM"
      },
      "outputs": [],
      "source": [
        "def clean_story_text(story):\n",
        "    p = re.compile(r'<.*?>')\n",
        "    cleaned_article = story.replace('\\\\u003c','<')\n",
        "    cleaned_article = striphtml(story.replace('\\\\u003c','<')).replace(\"___\",' ').replace('\\\"',\"\").replace(\"'\",\"\")\n",
        "    return cleaned_article"
      ]
    },
    {
      "cell_type": "markdown",
      "metadata": {
        "id": "uQ-ATGNNgFI2"
      },
      "source": [
        "####**2.1.1 - Associated Press**"
      ]
    },
    {
      "cell_type": "code",
      "execution_count": 59,
      "metadata": {
        "id": "JB5g3PW5qwR8"
      },
      "outputs": [],
      "source": [
        "# =============================\n",
        "# get associated press articles\n",
        "# =============================\n",
        "def getAPNewsFromCategory(category):\n",
        "    page = requests.get('https://apnews.com/hub/' + category) \n",
        "    soup = BeautifulSoup(page.content, 'html.parser')\n",
        "    results = soup.find_all('a')\n",
        "    print('Find ', len(results), ' articles in ', category, '.')\n",
        "\n",
        "    datePublisheds = []\n",
        "    headlines = []\n",
        "    descriptions = []\n",
        "    articles = []\n",
        "    categories = []\n",
        "\n",
        "    for link in results:\n",
        "        href = link.get('href')\n",
        "        if('/article/' in href):\n",
        "            page = requests.get('https://apnews.com/' + href) \n",
        "            soup = BeautifulSoup(page.content, 'html.parser')\n",
        "            result = str(soup.find_all('script'))\n",
        "            try:\n",
        "                datePublished = result.split('\"datePublished\":',1)[1].partition(',\"')[0].replace('\\\"',\"\").replace(\"'\",\"\")\n",
        "                headline = result.split('\"headline\":',1)[1].partition(',\"')[0].replace('\\\"',\"\").replace(\"'\",\"\")\n",
        "                description = result.split('\"description\":',1)[1].partition(',\"')[0].replace('\\\"',\"\").replace(\"'\",\"\")\n",
        "                storyHTML = result.split('\"storyHTML\":',1)[1].partition(',\"')[0].replace('\\\"',\"\").replace(\"'\",\"\")\n",
        "\n",
        "                # print('datePublished:', datePublished)\n",
        "                # print('\\nheadline:', headline)\n",
        "                # print('\\ndescription:', description)\n",
        "                # print('\\nstoryHTML:', storyHTML)\n",
        "                # print('\\n\\n------------------------\\n\\n')\n",
        "\n",
        "                categories.append(category)\n",
        "                datePublisheds.append(datePublished)\n",
        "                headlines.append(headline)\n",
        "                descriptions.append(description)\n",
        "                articles.append(storyHTML)\n",
        "                \n",
        "            except:\n",
        "                pass\n",
        "\n",
        "    frame = {'category': categories, 'date_published': datePublisheds, 'headline': headlines, 'description': descriptions, 'story': articles }\n",
        "    result = pd.DataFrame(frame)\n",
        "    # df = pd.DataFrame (article, columns = ['story'])\n",
        "    result.story = result.story.map(clean_story_text)\n",
        "\n",
        "    return result"
      ]
    },
    {
      "cell_type": "code",
      "execution_count": 60,
      "metadata": {
        "colab": {
          "base_uri": "https://localhost:8080/"
        },
        "id": "exczKhWTq4RJ",
        "outputId": "896081ff-4514-442c-bfff-7430cbfe5602"
      },
      "outputs": [
        {
          "output_type": "stream",
          "name": "stdout",
          "text": [
            "Find  227  articles in  us-news .\n",
            "Find  283  articles in  world-news .\n",
            "Find  208  articles in  politics .\n",
            "Find  257  articles in  sports .\n",
            "Find  243  articles in  entertainment .\n",
            "Find  263  articles in  business .\n",
            "Find  210  articles in  technology .\n",
            "Find  216  articles in  health .\n",
            "Find  223  articles in  science .\n"
          ]
        }
      ],
      "source": [
        "categories=['us-news','world-news','politics','sports','entertainment','business','technology','health','science']\n",
        "articles = pd.DataFrame(columns=['category', 'date_published', 'headline', 'description','story'])\n",
        "for cat in categories:\n",
        "    df = getAPNewsFromCategory(cat)\n",
        "    articles=articles.append(df)\n",
        "\n",
        "articles = articles.drop_duplicates()\n",
        "\n",
        "\n",
        "articles.to_csv('./articles.csv', index=False)  "
      ]
    },
    {
      "cell_type": "code",
      "execution_count": 61,
      "metadata": {
        "id": "ogRJfKC4HlVg"
      },
      "outputs": [],
      "source": [
        "# Limpiando datos vacíos \n",
        "article = articles.drop(articles[articles.story.str.len()==0].index, axis=0, inplace=True)"
      ]
    },
    {
      "cell_type": "code",
      "execution_count": 62,
      "metadata": {
        "colab": {
          "base_uri": "https://localhost:8080/"
        },
        "id": "UDbY5U-Ih7ie",
        "outputId": "17835faf-7028-4b97-8145-77c2e9a0e704"
      },
      "outputs": [
        {
          "output_type": "execute_result",
          "data": {
            "text/plain": [
              "(564, 5)"
            ]
          },
          "metadata": {},
          "execution_count": 62
        }
      ],
      "source": [
        "articles.shape"
      ]
    },
    {
      "cell_type": "code",
      "execution_count": 63,
      "metadata": {
        "id": "a8Ik0xN6sueW"
      },
      "outputs": [],
      "source": [
        "# articles = pd.read_csv('./articles.csv')\n",
        "# articles"
      ]
    },
    {
      "cell_type": "markdown",
      "metadata": {
        "id": "GSkiQYLQeI_6"
      },
      "source": [
        "###**2.2 - Limpiando el Dataset**"
      ]
    },
    {
      "cell_type": "code",
      "execution_count": 64,
      "metadata": {
        "id": "NhKm0Lr0tRst"
      },
      "outputs": [],
      "source": [
        "# usando datos capturados por scraping\n",
        "df_articles = pd.DataFrame(columns=['document'])\n",
        "df_articles.document = articles.story"
      ]
    },
    {
      "cell_type": "code",
      "execution_count": 65,
      "metadata": {
        "id": "4toHcuj6p6qu"
      },
      "outputs": [],
      "source": [
        "# Eliminar líneas que pueden estar vacías en el salto del artículo\n",
        "df_articles.dropna(inplace=True)"
      ]
    },
    {
      "cell_type": "code",
      "execution_count": 66,
      "metadata": {
        "colab": {
          "base_uri": "https://localhost:8080/",
          "height": 206
        },
        "id": "JAGgIITEik7x",
        "outputId": "2d2f08c1-3170-4e66-eef4-84d2a226d4fa"
      },
      "outputs": [
        {
          "output_type": "execute_result",
          "data": {
            "text/plain": [
              "                                             document\n",
              "0   CLOVERLEAF, Texas (AP) — A 7-year-old boy died...\n",
              "2   SYDNEY (AP) — Australias government said Monda...\n",
              "5   LONDON (AP) — Actor Kevin Spacey has been form...\n",
              "8   AMSTERDAM (AP) — The Rolling Stones canceled t...\n",
              "11  Phoenix, Las Vegas, Denver and Californias Dea..."
            ],
            "text/html": [
              "\n",
              "  <div id=\"df-5a2710f9-b7a1-4eb8-9cd2-42aea75391ee\">\n",
              "    <div class=\"colab-df-container\">\n",
              "      <div>\n",
              "<style scoped>\n",
              "    .dataframe tbody tr th:only-of-type {\n",
              "        vertical-align: middle;\n",
              "    }\n",
              "\n",
              "    .dataframe tbody tr th {\n",
              "        vertical-align: top;\n",
              "    }\n",
              "\n",
              "    .dataframe thead th {\n",
              "        text-align: right;\n",
              "    }\n",
              "</style>\n",
              "<table border=\"1\" class=\"dataframe\">\n",
              "  <thead>\n",
              "    <tr style=\"text-align: right;\">\n",
              "      <th></th>\n",
              "      <th>document</th>\n",
              "    </tr>\n",
              "  </thead>\n",
              "  <tbody>\n",
              "    <tr>\n",
              "      <th>0</th>\n",
              "      <td>CLOVERLEAF, Texas (AP) — A 7-year-old boy died...</td>\n",
              "    </tr>\n",
              "    <tr>\n",
              "      <th>2</th>\n",
              "      <td>SYDNEY (AP) — Australias government said Monda...</td>\n",
              "    </tr>\n",
              "    <tr>\n",
              "      <th>5</th>\n",
              "      <td>LONDON (AP) — Actor Kevin Spacey has been form...</td>\n",
              "    </tr>\n",
              "    <tr>\n",
              "      <th>8</th>\n",
              "      <td>AMSTERDAM (AP) — The Rolling Stones canceled t...</td>\n",
              "    </tr>\n",
              "    <tr>\n",
              "      <th>11</th>\n",
              "      <td>Phoenix, Las Vegas, Denver and Californias Dea...</td>\n",
              "    </tr>\n",
              "  </tbody>\n",
              "</table>\n",
              "</div>\n",
              "      <button class=\"colab-df-convert\" onclick=\"convertToInteractive('df-5a2710f9-b7a1-4eb8-9cd2-42aea75391ee')\"\n",
              "              title=\"Convert this dataframe to an interactive table.\"\n",
              "              style=\"display:none;\">\n",
              "        \n",
              "  <svg xmlns=\"http://www.w3.org/2000/svg\" height=\"24px\"viewBox=\"0 0 24 24\"\n",
              "       width=\"24px\">\n",
              "    <path d=\"M0 0h24v24H0V0z\" fill=\"none\"/>\n",
              "    <path d=\"M18.56 5.44l.94 2.06.94-2.06 2.06-.94-2.06-.94-.94-2.06-.94 2.06-2.06.94zm-11 1L8.5 8.5l.94-2.06 2.06-.94-2.06-.94L8.5 2.5l-.94 2.06-2.06.94zm10 10l.94 2.06.94-2.06 2.06-.94-2.06-.94-.94-2.06-.94 2.06-2.06.94z\"/><path d=\"M17.41 7.96l-1.37-1.37c-.4-.4-.92-.59-1.43-.59-.52 0-1.04.2-1.43.59L10.3 9.45l-7.72 7.72c-.78.78-.78 2.05 0 2.83L4 21.41c.39.39.9.59 1.41.59.51 0 1.02-.2 1.41-.59l7.78-7.78 2.81-2.81c.8-.78.8-2.07 0-2.86zM5.41 20L4 18.59l7.72-7.72 1.47 1.35L5.41 20z\"/>\n",
              "  </svg>\n",
              "      </button>\n",
              "      \n",
              "  <style>\n",
              "    .colab-df-container {\n",
              "      display:flex;\n",
              "      flex-wrap:wrap;\n",
              "      gap: 12px;\n",
              "    }\n",
              "\n",
              "    .colab-df-convert {\n",
              "      background-color: #E8F0FE;\n",
              "      border: none;\n",
              "      border-radius: 50%;\n",
              "      cursor: pointer;\n",
              "      display: none;\n",
              "      fill: #1967D2;\n",
              "      height: 32px;\n",
              "      padding: 0 0 0 0;\n",
              "      width: 32px;\n",
              "    }\n",
              "\n",
              "    .colab-df-convert:hover {\n",
              "      background-color: #E2EBFA;\n",
              "      box-shadow: 0px 1px 2px rgba(60, 64, 67, 0.3), 0px 1px 3px 1px rgba(60, 64, 67, 0.15);\n",
              "      fill: #174EA6;\n",
              "    }\n",
              "\n",
              "    [theme=dark] .colab-df-convert {\n",
              "      background-color: #3B4455;\n",
              "      fill: #D2E3FC;\n",
              "    }\n",
              "\n",
              "    [theme=dark] .colab-df-convert:hover {\n",
              "      background-color: #434B5C;\n",
              "      box-shadow: 0px 1px 3px 1px rgba(0, 0, 0, 0.15);\n",
              "      filter: drop-shadow(0px 1px 2px rgba(0, 0, 0, 0.3));\n",
              "      fill: #FFFFFF;\n",
              "    }\n",
              "  </style>\n",
              "\n",
              "      <script>\n",
              "        const buttonEl =\n",
              "          document.querySelector('#df-5a2710f9-b7a1-4eb8-9cd2-42aea75391ee button.colab-df-convert');\n",
              "        buttonEl.style.display =\n",
              "          google.colab.kernel.accessAllowed ? 'block' : 'none';\n",
              "\n",
              "        async function convertToInteractive(key) {\n",
              "          const element = document.querySelector('#df-5a2710f9-b7a1-4eb8-9cd2-42aea75391ee');\n",
              "          const dataTable =\n",
              "            await google.colab.kernel.invokeFunction('convertToInteractive',\n",
              "                                                     [key], {});\n",
              "          if (!dataTable) return;\n",
              "\n",
              "          const docLinkHtml = 'Like what you see? Visit the ' +\n",
              "            '<a target=\"_blank\" href=https://colab.research.google.com/notebooks/data_table.ipynb>data table notebook</a>'\n",
              "            + ' to learn more about interactive tables.';\n",
              "          element.innerHTML = '';\n",
              "          dataTable['output_type'] = 'display_data';\n",
              "          await google.colab.output.renderOutput(dataTable, element);\n",
              "          const docLink = document.createElement('div');\n",
              "          docLink.innerHTML = docLinkHtml;\n",
              "          element.appendChild(docLink);\n",
              "        }\n",
              "      </script>\n",
              "    </div>\n",
              "  </div>\n",
              "  "
            ]
          },
          "metadata": {},
          "execution_count": 66
        }
      ],
      "source": [
        "df_articles.head()"
      ]
    },
    {
      "cell_type": "markdown",
      "metadata": {
        "id": "rWGioD-Mn5nQ"
      },
      "source": [
        "Ahora que tenemos la lista de artículos en un conjunto de datos, procesemos los pasos de limpieza y formato para aplicar el algoritmo TextRank. Instalemos algunas bibliotecas enfocadas en tareas de PNL: nltk y spacy."
      ]
    },
    {
      "cell_type": "code",
      "execution_count": 67,
      "metadata": {
        "colab": {
          "base_uri": "https://localhost:8080/"
        },
        "id": "7IhSIWuMEjQC",
        "outputId": "c8b25583-337f-4c71-bde0-4383ae3d11d5"
      },
      "outputs": [
        {
          "output_type": "stream",
          "name": "stdout",
          "text": [
            "[nltk_data] Downloading package punkt to /root/nltk_data...\n",
            "[nltk_data]   Package punkt is already up-to-date!\n",
            "[nltk_data] Downloading package stopwords to /root/nltk_data...\n",
            "[nltk_data]   Package stopwords is already up-to-date!\n"
          ]
        }
      ],
      "source": [
        "import nltk\n",
        "nltk.download('punkt')\n",
        "\n",
        "import re\n",
        "import spacy\n",
        "import nltk\n",
        "from nltk.corpus import stopwords\n",
        "from nltk.tokenize import sent_tokenize, word_tokenize \n",
        "\n",
        "nlp = spacy.load('en_core_web_sm')\n",
        "nltk.download('stopwords')\n",
        "stopwords = stopwords.words('english')\n",
        "punctuations = '!\"#$%&\\'()*+,-/:;<=>?@[\\\\]^_`{|}~©'"
      ]
    },
    {
      "cell_type": "code",
      "execution_count": 68,
      "metadata": {
        "id": "iPws4PHjIGEC"
      },
      "outputs": [],
      "source": [
        "def cleanup_text(text):\n",
        "    '''Clean some especial and new line caracteres'''\n",
        "    # replaced = text.replace(\"b\\'\",'')\n",
        "    replaced = text.replace(\"\\n \",\"\")  \n",
        "    replaced = replaced.replace(\"\\'s\",\"\")\n",
        "    replaced = replaced.replace(\" .\",\".\")\n",
        "    replaced = replaced.replace(\"  \",\" \")\n",
        "    replaced = replaced.strip()\n",
        "    return replaced"
      ]
    },
    {
      "cell_type": "code",
      "execution_count": 69,
      "metadata": {
        "id": "Y4Jfejw1ZlVp"
      },
      "outputs": [],
      "source": [
        "def process_text(docs, logging=False):\n",
        "    '''Clean text and separeting tokens and convert do lowercase.'''\n",
        "    texts = []\n",
        "    \n",
        "    # inc case of large docs, split docs in sentences\n",
        "    sentences = sent_tokenize(docs)\n",
        "    sent_cleaned = []\n",
        "    for sent in sentences:\n",
        "        # remove caracteres especiais\n",
        "        sent=sent.replace(\"[^a-zA-Z0-9]\",\" \")\n",
        "        doc = nlp(sent, disable=['parser', 'ner'])\n",
        "        tokens = [tok.lemma_.lower().strip() for tok in doc if tok.lemma_ != '-PRON-']\n",
        "        tokens = [tok for tok in tokens if tok not in stopwords and tok not in punctuations] \n",
        "        tokens = ' '.join(tokens)\n",
        "        # tokens = tokens.replace(\"b\\'\",'')\n",
        "        # tokens = tokens.replace(\"\\\\n \",'')  \n",
        "        # tokens = tokens.replace(\"\\\\\\'s\",'') \n",
        "        # print(tokens)\n",
        "        # tokens = tokens.strip()\n",
        "        sent_cleaned.append(tokens)\n",
        "\n",
        "    sent_cleaned = ' '.join(str(x) for x in sent_cleaned)\n",
        "    texts.append(sent_cleaned)\n",
        "    return pd.Series(texts)\n"
      ]
    },
    {
      "cell_type": "code",
      "execution_count": 70,
      "metadata": {
        "colab": {
          "base_uri": "https://localhost:8080/"
        },
        "id": "dFYhwK5mIM69",
        "outputId": "a1a83a5a-00e2-44c8-dda9-1f7523a15a87"
      },
      "outputs": [
        {
          "output_type": "execute_result",
          "data": {
            "text/plain": [
              "0    CLOVERLEAF, Texas (AP) — A 7-year-old boy died...\n",
              "0    KOLONSCHYNA, Ukraine (AP) — As Russian tanks a...\n",
              "0    WASHINGTON (AP) — Members of the House committ...\n",
              "0    A timeline of key events before, during after ...\n",
              "0    NEW YORK (AP) — The Latest on the Tony Awards ...\n",
              "0    AMSTERDAM (AP) — The Rolling Stones canceled t...\n",
              "0    NEW YORK (AP) — Meltdowns in the cryptocurrenc...\n",
              "0    AMSTERDAM (AP) — The Rolling Stones canceled t...\n",
              "0    LAKE SAWA, Iraq (AP) — Hussam al-Aqouli rememb...\n",
              "Name: document, dtype: object"
            ]
          },
          "metadata": {},
          "execution_count": 70
        }
      ],
      "source": [
        "df_articles.document[0]"
      ]
    },
    {
      "cell_type": "code",
      "execution_count": 71,
      "metadata": {
        "colab": {
          "base_uri": "https://localhost:8080/",
          "height": 223,
          "referenced_widgets": [
            "bf33e3ce518249adb6204eab54ed9ad7",
            "bed4eab835b94a0abc719b1858f51adc",
            "cd31b80b32924bd2b2689c5d19f13af4",
            "2cfdc08cc9fe43268ceca70f1b519ffc",
            "2f50baecd4ec4be1a32d40ae133f88aa",
            "3812415bd0af46d7a8a05c8108787732",
            "e5e13a6b5e994346bb973ac11cfd9b12",
            "4ec22a2805a744e58ba63d4e7aa1fcc7",
            "36b88106b96b40cf89d5e437f6d13aee",
            "dcce660296224b71833b341952f7c339",
            "e6def37072324134a5fd2ff0991d707f"
          ]
        },
        "id": "sTsQGhfecohY",
        "outputId": "b1d57e30-022c-4e15-92fb-7ac97519295c"
      },
      "outputs": [
        {
          "output_type": "display_data",
          "data": {
            "text/plain": [
              "  0%|          | 0/564 [00:00<?, ?it/s]"
            ],
            "application/vnd.jupyter.widget-view+json": {
              "version_major": 2,
              "version_minor": 0,
              "model_id": "bf33e3ce518249adb6204eab54ed9ad7"
            }
          },
          "metadata": {}
        },
        {
          "output_type": "execute_result",
          "data": {
            "text/plain": [
              "0    CLOVERLEAF, Texas (AP) — A 7-year-old boy died...\n",
              "0    KOLONSCHYNA, Ukraine (AP) — As Russian tanks a...\n",
              "0    WASHINGTON (AP) — Members of the House committ...\n",
              "0    A timeline of key events before, during after ...\n",
              "0    NEW YORK (AP) — The Latest on the Tony Awards ...\n",
              "0    AMSTERDAM (AP) — The Rolling Stones canceled t...\n",
              "0    NEW YORK (AP) — Meltdowns in the cryptocurrenc...\n",
              "0    AMSTERDAM (AP) — The Rolling Stones canceled t...\n",
              "0    LAKE SAWA, Iraq (AP) — Hussam al-Aqouli rememb...\n",
              "Name: document_cleaned, dtype: object"
            ]
          },
          "metadata": {},
          "execution_count": 71
        }
      ],
      "source": [
        "# aplicar la función para limpiar los marcadores sobrantes de la conversión\n",
        "# para codificación utf-8\n",
        "df_articles['document_cleaned'] = df_articles['document'].progress_apply(cleanup_text)\n",
        "df_articles['document_cleaned'][0]"
      ]
    },
    {
      "cell_type": "code",
      "execution_count": 72,
      "metadata": {
        "colab": {
          "base_uri": "https://localhost:8080/",
          "height": 223,
          "referenced_widgets": [
            "21c759d1c00f45a4ada4e15e1fd83819",
            "8c01231a865f44cebd55d917a33cccbd",
            "a7bc4538ed40441cb82bf7582058558f",
            "03b7815c441449f0ac76c90fc03f6325",
            "5fad64ec87e74bb99150a76b0f758be8",
            "cd693078370f4999bfe447843b6383ed",
            "3b7f6170febc4167aa6b3f445254fcc7",
            "56123c3f0c5b426cae836882e1742956",
            "9ad066651da843cdae7bb23f7f732e4f",
            "fd0702b9383d433787926875f2408599",
            "da386d03db9146d38c7175409af9009f"
          ]
        },
        "id": "GpZnc9D3BpmS",
        "outputId": "b7805f93-91fe-4b42-c75b-1ea2503a1a3d"
      },
      "outputs": [
        {
          "output_type": "display_data",
          "data": {
            "text/plain": [
              "  0%|          | 0/564 [00:00<?, ?it/s]"
            ],
            "application/vnd.jupyter.widget-view+json": {
              "version_major": 2,
              "version_minor": 0,
              "model_id": "21c759d1c00f45a4ada4e15e1fd83819"
            }
          },
          "metadata": {}
        },
        {
          "output_type": "execute_result",
          "data": {
            "text/plain": [
              "0    cloverleaf texas ap — 7 year old boy die strik...\n",
              "0    kolonschyna ukraine ap — russian tank truck ru...\n",
              "0    washington ap — member house committee investi...\n",
              "0    timeline key event 1972 passage landmark u.s. ...\n",
              "0    new york ap — late tony awards time local):11 ...\n",
              "0    amsterdam ap — rolling stones cancel concert a...\n",
              "0    new york ap — meltdown cryptocurrency space co...\n",
              "0    amsterdam ap — rolling stones cancel concert a...\n",
              "0    lake sawa iraq ap — hussam al aqouli remember ...\n",
              "Name: document_cleaned_formated, dtype: object"
            ]
          },
          "metadata": {},
          "execution_count": 72
        }
      ],
      "source": [
        "# Limpiar el texto de los storys en una nueva feature\n",
        "# convertir texto a minúsculas\n",
        "# puntajes, etiquetas dejadas por spacy\n",
        "# eliminar palabras con baja representación y palabras vacías\n",
        "# del idioma inglés como preposiciones, pronombres y adverbios\n",
        "df_articles['document_cleaned_formated'] = df_articles['document_cleaned'].progress_apply(process_text)\n",
        "df_articles['document_cleaned_formated'][0]"
      ]
    },
    {
      "cell_type": "code",
      "execution_count": 73,
      "metadata": {
        "id": "rd_xohc-0IG_"
      },
      "outputs": [],
      "source": [
        "# guardar el tamaño de los textos limpios y formateados como features\n",
        "df_articles['document_cleaned_lenght'] = df_articles['document_cleaned'].str.len()\n",
        "df_articles['document_cleaned_formated_lenght'] = df_articles['document_cleaned_formated'].str.len()"
      ]
    },
    {
      "cell_type": "code",
      "execution_count": 74,
      "metadata": {
        "colab": {
          "base_uri": "https://localhost:8080/"
        },
        "id": "tx55m2xeGrWo",
        "outputId": "24b8cf12-f9cf-4716-b31e-7684ca3900e1"
      },
      "outputs": [
        {
          "output_type": "stream",
          "name": "stdout",
          "text": [
            "Líneas con texto vacío:  0\n"
          ]
        }
      ],
      "source": [
        "print('Líneas con texto vacío: ', len(df_articles[df_articles.document_cleaned_lenght<1]))"
      ]
    },
    {
      "cell_type": "code",
      "execution_count": 75,
      "metadata": {
        "id": "LCQOrbwJe4rD"
      },
      "outputs": [],
      "source": [
        "# guardar archivo con storys preprocesadas\n",
        "df_articles.to_csv('articles.csv.gz', compression='gzip')"
      ]
    },
    {
      "cell_type": "code",
      "execution_count": 76,
      "metadata": {
        "colab": {
          "base_uri": "https://localhost:8080/"
        },
        "id": "snkEYJsvX2sr",
        "outputId": "db0f8790-c63b-4b62-e6f5-d82851c4e526"
      },
      "outputs": [
        {
          "output_type": "stream",
          "name": "stdout",
          "text": [
            "total 4016\n",
            "-rw-r--r-- 1 root root 2242702 Jun 13 17:47 articles.csv\n",
            "-rw-r--r-- 1 root root  991279 Jun 13 17:49 articles.csv.gz\n",
            "drwxr-xr-x 1 root root    4096 Jun  1 13:50 \u001b[0m\u001b[01;34msample_data\u001b[0m/\n",
            "-rw-r--r-- 1 root root  866291 Jun 13 16:34 storys_summarized.csv.gz\n"
          ]
        }
      ],
      "source": [
        "ls -l"
      ]
    },
    {
      "cell_type": "markdown",
      "metadata": {
        "id": "DmkK5XYqo8rJ"
      },
      "source": [
        "##**3.0 - Exploratory Data Analysis**"
      ]
    },
    {
      "cell_type": "markdown",
      "metadata": {
        "id": "h9DzCwer0Iah"
      },
      "source": [
        "**Analisando el tamaño de los documentos**"
      ]
    },
    {
      "cell_type": "code",
      "execution_count": 77,
      "metadata": {
        "id": "MDTcaxHtzFf8"
      },
      "outputs": [],
      "source": [
        "from matplotlib import pyplot as plt\n",
        "import seaborn as sns\n",
        "sns.set(style='whitegrid', palette='muted', font_scale=1.5)\n",
        "plt.style.use('seaborn')\n",
        "\n",
        "%matplotlib inline\n",
        "%config inlineBackend.figure_format='retina'"
      ]
    },
    {
      "cell_type": "markdown",
      "metadata": {
        "id": "3K4MLYkX9jO0"
      },
      "source": [
        "Analizar las categorías de los artículos del conjunto de datos."
      ]
    },
    {
      "cell_type": "code",
      "execution_count": 78,
      "metadata": {
        "colab": {
          "base_uri": "https://localhost:8080/",
          "height": 495
        },
        "id": "VP7nI6Qb0s3d",
        "outputId": "179a91ae-de8c-4b96-d410-6202c0c445b1"
      },
      "outputs": [
        {
          "output_type": "display_data",
          "data": {
            "text/plain": [
              "<Figure size 1008x432 with 1 Axes>"
            ],
            "image/png": "[encoded data removed]"
          },
          "metadata": {
            "needs_background": "light"
          }
        }
      ],
      "source": [
        "articles_cats = articles.category.value_counts().reset_index()\n",
        "\n",
        "fig=plt.figure(figsize=(14,6))\n",
        "ax = fig.add_axes([0,0,1,1])\n",
        "ax.set_ylabel('Cantidad')\n",
        "ax.set_title('Número de Artículos por Categoría')\n",
        "ax.bar(articles_cats['index'], articles_cats.category)\n",
        "plt.show()"
      ]
    },
    {
      "cell_type": "markdown",
      "metadata": {
        "id": "suivB4Z-9rZA"
      },
      "source": [
        "Analizar la distribución del número de palabras en los artículos del conjunto de datos."
      ]
    },
    {
      "cell_type": "code",
      "execution_count": 79,
      "metadata": {
        "colab": {
          "base_uri": "https://localhost:8080/"
        },
        "id": "C0Ys2ZmKfpc-",
        "outputId": "397e14e8-1384-40dc-c11b-d1e22a049fa3"
      },
      "outputs": [
        {
          "output_type": "execute_result",
          "data": {
            "text/plain": [
              "count      564.000000\n",
              "mean      3518.668440\n",
              "std       2818.849812\n",
              "min        392.000000\n",
              "25%       1363.000000\n",
              "50%       2548.000000\n",
              "75%       6029.000000\n",
              "max      15442.000000\n",
              "Name: document_cleaned_lenght, dtype: float64"
            ]
          },
          "metadata": {},
          "execution_count": 79
        }
      ],
      "source": [
        "df_articles['document_cleaned_lenght'].describe()"
      ]
    },
    {
      "cell_type": "code",
      "execution_count": 80,
      "metadata": {
        "colab": {
          "base_uri": "https://localhost:8080/",
          "height": 403
        },
        "id": "suGqHrgUpKsR",
        "outputId": "1237840f-a4c2-400b-ecdc-5aae021fc5dc"
      },
      "outputs": [
        {
          "output_type": "display_data",
          "data": {
            "text/plain": [
              "<Figure size 1152x432 with 1 Axes>"
            ],
            "image/png": "[encoded data removed]"
          },
          "metadata": {
            "needs_background": "light"
          }
        }
      ],
      "source": [
        "# Trazado del histograma del número de palabras en los artículos\n",
        "plt.figure(figsize=(16,6))\n",
        "plt.title(\"Distribuición del Tamaños de los Artículos\")\n",
        "plt.xlabel(\"Número de Palabras\")\n",
        "plt.ylabel(\"Frecuencia\")\n",
        "plt.hist(df_articles['document_cleaned_lenght'])\n",
        "# marker_size = 15\n",
        "plt.show()"
      ]
    },
    {
      "cell_type": "code",
      "execution_count": 81,
      "metadata": {
        "colab": {
          "base_uri": "https://localhost:8080/"
        },
        "id": "3ImnIZO30kZd",
        "outputId": "edb4be5b-b9ae-4376-efae-41016c977396"
      },
      "outputs": [
        {
          "output_type": "execute_result",
          "data": {
            "text/plain": [
              "count      564.000000\n",
              "mean      2502.530142\n",
              "std       2019.659178\n",
              "min        300.000000\n",
              "25%        990.000000\n",
              "50%       1828.000000\n",
              "75%       4290.000000\n",
              "max      11041.000000\n",
              "Name: document_cleaned_formated_lenght, dtype: float64"
            ]
          },
          "metadata": {},
          "execution_count": 81
        }
      ],
      "source": [
        "df_articles['document_cleaned_formated_lenght'].describe()"
      ]
    },
    {
      "cell_type": "code",
      "execution_count": 82,
      "metadata": {
        "colab": {
          "base_uri": "https://localhost:8080/"
        },
        "id": "vhVS9ude2SM9",
        "outputId": "3b81a3ee-7903-448a-b538-25e187f9747f"
      },
      "outputs": [
        {
          "output_type": "execute_result",
          "data": {
            "text/plain": [
              "102      300\n",
              "119      357\n",
              "148      376\n",
              "131      401\n",
              "0        436\n",
              "       ...  \n",
              "80     11041\n",
              "6      11041\n",
              "38     11041\n",
              "0      11041\n",
              "86     11041\n",
              "Name: document_cleaned_formated_lenght, Length: 564, dtype: int64"
            ]
          },
          "metadata": {},
          "execution_count": 82
        }
      ],
      "source": [
        "df_articles['document_cleaned_formated_lenght'].sort_values()"
      ]
    },
    {
      "cell_type": "markdown",
      "metadata": {
        "id": "SKBPh3AlppJj"
      },
      "source": [
        "##**4 - Generando resumen**"
      ]
    },
    {
      "cell_type": "markdown",
      "metadata": {
        "id": "8JAGOSaAlPCK"
      },
      "source": [
        "###**4.1 - Uso de la biblioteca Spacy**"
      ]
    },
    {
      "cell_type": "markdown",
      "metadata": {
        "id": "R9eS6lJNc-Io"
      },
      "source": [
        "Para generar el resumen extractivo, una técnica es utilizar el algoritmo TextRank, derivado del PageRank desarrollado por Google. Este método consiste en encontrar las oraciones en un documento que tienen la clasificación más alta usando una frecuencia ponderada de las palabras en el documento. En este cuaderno vamos a utilizar una variación muy similar al algoritmo TextRank. A continuación se detallan los pasos que debemos realizar:\n",
        "\n",
        "1. Convierta todos los documentos en oraciones;\n",
        "2. Procesar el texto de las oraciones: convertir a minúsculas, eliminar palabras vacías y caracteres especiales;\n",
        "3. Tokenizar las oraciones: tratar cada palabra (token) como un elemento a considerar en el cálculo de frecuencia;\n",
        "4. Calcular la frecuencia ponderada: para cada palabra del texto calcularemos la frecuencia ponderada en relación con el documento. Haremos esto dividiendo la frecuencia de cada palabra por la frecuencia de la palabra que aparece con más frecuencia en el documento;\n",
        "5. Sustituir palabras ponderadas más frecuentes en la oración original;\n",
        "6. Ordenar las oraciones en orden descendente de suma de frecuencia;"
      ]
    },
    {
      "cell_type": "code",
      "execution_count": 83,
      "metadata": {
        "id": "bS6XB87NptJf"
      },
      "outputs": [],
      "source": [
        "#nltk.download('punkt')\n",
        "import heapq\n",
        "\n",
        "def generate_summary(text_without_removing_dot, cleaned_text, logging=False):\n",
        "    sample_text = text_without_removing_dot\n",
        "\n",
        "    if len(sample_text)>0:\n",
        "        # Ingrese el documento de texto en la función spacy nlp\n",
        "        doc = nlp(sample_text)\n",
        "        # estamos usando spacy para la tokenización de oraciones\n",
        "        sentence_list=[]\n",
        "        for idx, sentence in enumerate(doc.sents): \n",
        "            sentence_list.append(re.sub(r'[^\\w\\s]','',str(sentence)))\n",
        "\n",
        "        # obtener la lista de palabras vacías del inglés\n",
        "        stopwords = nltk.corpus.stopwords.words('english')\n",
        "\n",
        "        # calcular frecuencia de palabras - TF\n",
        "        word_frequencies = {}  \n",
        "        for word in nltk.word_tokenize(cleaned_text):  \n",
        "            if word not in stopwords:\n",
        "                if word not in word_frequencies.keys():\n",
        "                    word_frequencies[word] = 1\n",
        "                else:\n",
        "                    word_frequencies[word] += 1\n",
        "\n",
        "        # identificar una mayor frecuencia de palabras \n",
        "        maximum_frequncy = max(word_frequencies.values())\n",
        "\n",
        "        # calcular una frecuencia de palabra inversa para la lista de palabras - TF-IDF\n",
        "        for word in word_frequencies.keys():  \n",
        "            word_frequencies[word] = (word_frequencies[word]/maximum_frequncy)\n",
        "\n",
        "        # calcular puntajes para cada oración\n",
        "        sentence_scores = {}  \n",
        "        for sent in sentence_list:  \n",
        "            for word in nltk.word_tokenize(sent.lower()):\n",
        "                if word in word_frequencies.keys():\n",
        "                    if len(sent.split(' ')) < 50: # número máximo de palabras en cada oración\n",
        "                        if sent not in sentence_scores.keys():\n",
        "                            sentence_scores[sent] = word_frequencies[word]\n",
        "                        else:\n",
        "                            sentence_scores[sent] += word_frequencies[word]\n",
        "\n",
        "        # obtener siete oraciones de puntuación más alta\n",
        "        summary_sentences = heapq.nlargest(7, sentence_scores, key=sentence_scores.get)\n",
        "        summary = ' '.join(summary_sentences)\n",
        "\n",
        "        # o si no se puede calcular ningún resumen, primera oración\n",
        "        if len(summary) == 0:\n",
        "            summary = sentence_list[0]\n",
        "\n",
        "        if logging:\n",
        "            print(\"Original Text:\\n\")\n",
        "            print(text_without_removing_dot)\n",
        "            print('\\n\\nSummarized text:\\n')\n",
        "            print(summary)\n",
        "    else:\n",
        "        summary = sample_text\n",
        "    \n",
        "    return summary"
      ]
    },
    {
      "cell_type": "markdown",
      "metadata": {
        "id": "awbvUd1hg-zf"
      },
      "source": [
        "Prueba de la función de resumen con el primer elemento del conjunto de datos de artículos."
      ]
    },
    {
      "cell_type": "code",
      "execution_count": 84,
      "metadata": {
        "colab": {
          "base_uri": "https://localhost:8080/"
        },
        "id": "M0OkDFbGg4dG",
        "outputId": "0cc79747-a14f-42a7-b216-cee13fbac6c4"
      },
      "outputs": [
        {
          "output_type": "execute_result",
          "data": {
            "text/plain": [
              "pandas.core.series.Series"
            ]
          },
          "metadata": {},
          "execution_count": 84
        }
      ],
      "source": [
        "type(df_articles.document_cleaned)"
      ]
    },
    {
      "cell_type": "code",
      "execution_count": 85,
      "metadata": {
        "colab": {
          "base_uri": "https://localhost:8080/",
          "height": 87
        },
        "id": "widRQ2iA-kMm",
        "outputId": "fb44516a-f1c0-4563-ff87-f60cd2fa8d41"
      },
      "outputs": [
        {
          "output_type": "execute_result",
          "data": {
            "text/plain": [
              "'CLOVERLEAF, Texas (AP) — A 7-year-old boy died after he was struck by gunfire that was shot into his Texas home as he slept in bed, police said.The child was shot about 10:45 p.m. Sunday at his familys home in the Houston-area city of Cloverleaf, Harris County Sheriffs Sgt. Jason Brown said. Someone in a silver sedan fired multiple rounds into the home, authorities said.The boys bedroom was near the front of the home, authorities said. He was struck in the chest and ran to his mother, but later died at a hospital, authorities said.No one has been arrested, the sheriffs office said, and the motive for the shooting wasnt yet known.'"
            ],
            "application/vnd.google.colaboratory.intrinsic+json": {
              "type": "string"
            }
          },
          "metadata": {},
          "execution_count": 85
        }
      ],
      "source": [
        "df_articles.document_cleaned.values[0]"
      ]
    },
    {
      "cell_type": "code",
      "execution_count": 86,
      "metadata": {
        "colab": {
          "base_uri": "https://localhost:8080/"
        },
        "id": "Wb90jaX-gdgm",
        "outputId": "3181b10e-6ffc-414d-9122-60a143f133ca"
      },
      "outputs": [
        {
          "output_type": "execute_result",
          "data": {
            "text/plain": [
              "615"
            ]
          },
          "metadata": {},
          "execution_count": 86
        }
      ],
      "source": [
        "len(generate_summary(df_articles.document_cleaned.values[0], df_articles.document_cleaned_formated.values[0], logging=False))"
      ]
    },
    {
      "cell_type": "code",
      "execution_count": 87,
      "metadata": {
        "colab": {
          "base_uri": "https://localhost:8080/",
          "height": 246
        },
        "id": "3h-ohZK8pyVv",
        "outputId": "f7b36d08-1902-47ef-dad0-1ae266e543af"
      },
      "outputs": [
        {
          "output_type": "stream",
          "name": "stdout",
          "text": [
            "Original Text:\n",
            "\n",
            "CLOVERLEAF, Texas (AP) — A 7-year-old boy died after he was struck by gunfire that was shot into his Texas home as he slept in bed, police said.The child was shot about 10:45 p.m. Sunday at his familys home in the Houston-area city of Cloverleaf, Harris County Sheriffs Sgt. Jason Brown said. Someone in a silver sedan fired multiple rounds into the home, authorities said.The boys bedroom was near the front of the home, authorities said. He was struck in the chest and ran to his mother, but later died at a hospital, authorities said.No one has been arrested, the sheriffs office said, and the motive for the shooting wasnt yet known.\n",
            "\n",
            "\n",
            "Summarized text:\n",
            "\n",
            "CLOVERLEAF Texas AP  A 7yearold boy died after he was struck by gunfire that was shot into his Texas home as he slept in bed police said The child was shot about 1045 pm Sunday at his familys home in the Houstonarea city of Cloverleaf Harris County Sheriffs Sgt Someone in a silver sedan fired multiple rounds into the home authorities said The boys bedroom was near the front of the home authorities said No one has been arrested the sheriffs office said and the motive for the shooting wasnt yet known He was struck in the chest and ran to his mother but later died at a hospital authorities said Jason Brown said\n"
          ]
        },
        {
          "output_type": "execute_result",
          "data": {
            "text/plain": [
              "'CLOVERLEAF Texas AP  A 7yearold boy died after he was struck by gunfire that was shot into his Texas home as he slept in bed police said The child was shot about 1045 pm Sunday at his familys home in the Houstonarea city of Cloverleaf Harris County Sheriffs Sgt Someone in a silver sedan fired multiple rounds into the home authorities said The boys bedroom was near the front of the home authorities said No one has been arrested the sheriffs office said and the motive for the shooting wasnt yet known He was struck in the chest and ran to his mother but later died at a hospital authorities said Jason Brown said'"
            ],
            "application/vnd.google.colaboratory.intrinsic+json": {
              "type": "string"
            }
          },
          "metadata": {},
          "execution_count": 87
        }
      ],
      "source": [
        "# generar el resumen del primer artículo\n",
        "generate_summary( df_articles['document_cleaned'].values[0], df_articles['document_cleaned_formated'].values[0], logging=True)"
      ]
    },
    {
      "cell_type": "markdown",
      "metadata": {
        "id": "sxdpa7_-0Mbi"
      },
      "source": [
        "Ahora procesando el conjunto de datos completo:"
      ]
    },
    {
      "cell_type": "code",
      "execution_count": 88,
      "metadata": {
        "colab": {
          "base_uri": "https://localhost:8080/",
          "height": 49,
          "referenced_widgets": [
            "063bd4f10841458181f070de3f5e83d7",
            "fd4d33510d654c57b0986df0c9731cd7",
            "d82eecb698064549b225974542bbb717",
            "86a18d3fb3ef456da910704e6f6de085",
            "60be9c443f384bc4b97aefa3f9f4470f",
            "af778aa132104f028701733297f6c88b",
            "6abb1de49a9c4e02aae4af132f1856b6",
            "ddf9382ac80d4131ab5fcfdea2073605",
            "361137cfd9fc4750a085ccccd0691f9c",
            "8b95660b4769491aadcdbaad28b616cb",
            "8ac47170a53b4903bdd43f7c7a42ed36"
          ]
        },
        "id": "dMyRHxS7gS61",
        "outputId": "e7a30700-6104-422f-d7b9-5246330ab3ec"
      },
      "outputs": [
        {
          "output_type": "display_data",
          "data": {
            "text/plain": [
              "  0%|          | 0/564 [00:00<?, ?it/s]"
            ],
            "application/vnd.jupyter.widget-view+json": {
              "version_major": 2,
              "version_minor": 0,
              "model_id": "063bd4f10841458181f070de3f5e83d7"
            }
          },
          "metadata": {}
        }
      ],
      "source": [
        "# Crear una nueva columna para almacenar el resumen generado\n",
        "df_articles['generated_summary'] = df_articles.progress_apply(lambda x: generate_summary(x.document_cleaned, x.document_cleaned_formated), axis=1)\n",
        "df_articles['generated_summary_lenght'] = df_articles['generated_summary'].str.len()\n"
      ]
    },
    {
      "cell_type": "code",
      "execution_count": 89,
      "metadata": {
        "colab": {
          "base_uri": "https://localhost:8080/"
        },
        "id": "MhxCQGgRhU_4",
        "outputId": "12377735-05d9-4813-952a-e5e91c21f65b"
      },
      "outputs": [
        {
          "output_type": "execute_result",
          "data": {
            "text/plain": [
              "(9, 9)"
            ]
          },
          "metadata": {},
          "execution_count": 89
        }
      ],
      "source": [
        "# comprobar el tamaño del storys original y el resumen\n",
        "len(df_articles.document[0]), len(df_articles.generated_summary[0])"
      ]
    },
    {
      "cell_type": "code",
      "execution_count": 90,
      "metadata": {
        "colab": {
          "base_uri": "https://localhost:8080/"
        },
        "id": "70uF713NxXlm",
        "outputId": "382124d0-7827-4e95-e315-a4784c1bdd4c"
      },
      "outputs": [
        {
          "output_type": "execute_result",
          "data": {
            "text/plain": [
              "(3519.053191489362, 1154.040780141844)"
            ]
          },
          "metadata": {},
          "execution_count": 90
        }
      ],
      "source": [
        "# comparar el tamaño de los strings del artículo original y del resumen\n",
        "df_articles.document.str.len().mean(), df_articles.generated_summary.str.len().mean()"
      ]
    },
    {
      "cell_type": "code",
      "execution_count": 91,
      "metadata": {
        "colab": {
          "base_uri": "https://localhost:8080/"
        },
        "id": "iC7iot6Z0ijJ",
        "outputId": "e79f644b-ce53-42f9-c25f-c0a80ffaec37"
      },
      "outputs": [
        {
          "output_type": "execute_result",
          "data": {
            "text/plain": [
              "(392, 297)"
            ]
          },
          "metadata": {},
          "execution_count": 91
        }
      ],
      "source": [
        "df_articles.document.str.len().min(), df_articles.generated_summary.str.len().min()"
      ]
    },
    {
      "cell_type": "code",
      "execution_count": 92,
      "metadata": {
        "colab": {
          "base_uri": "https://localhost:8080/",
          "height": 87
        },
        "id": "Il-S0h-mkCT5",
        "outputId": "7749eba2-c064-4d59-8e6c-422b045d8d3a"
      },
      "outputs": [
        {
          "output_type": "execute_result",
          "data": {
            "text/plain": [
              "'CLOVERLEAF Texas AP  A 7yearold boy died after he was struck by gunfire that was shot into his Texas home as he slept in bed police said The child was shot about 1045 pm Sunday at his familys home in the Houstonarea city of Cloverleaf Harris County Sheriffs Sgt Someone in a silver sedan fired multiple rounds into the home authorities said The boys bedroom was near the front of the home authorities said No one has been arrested the sheriffs office said and the motive for the shooting wasnt yet known He was struck in the chest and ran to his mother but later died at a hospital authorities said Jason Brown said'"
            ],
            "application/vnd.google.colaboratory.intrinsic+json": {
              "type": "string"
            }
          },
          "metadata": {},
          "execution_count": 92
        }
      ],
      "source": [
        "# Resumen del primer artículo\n",
        "df_articles.generated_summary.values[0]"
      ]
    },
    {
      "cell_type": "code",
      "execution_count": 93,
      "metadata": {
        "id": "MB5-PnaLsTta"
      },
      "outputs": [],
      "source": [
        "# guardar archivo con las storys preprocesadas\n",
        "df_articles.to_csv('storys_summarized.csv.gz', compression='gzip')"
      ]
    },
    {
      "cell_type": "markdown",
      "metadata": {
        "id": "vciTKPIOqxMM"
      },
      "source": [
        "##**5 - Evaluación del resultado**"
      ]
    },
    {
      "cell_type": "markdown",
      "metadata": {
        "id": "WQRR3AI11Rw_"
      },
      "source": [
        "###**5.1 - Calculando las métricas Rouge**"
      ]
    },
    {
      "cell_type": "markdown",
      "metadata": {
        "id": "Yz7Qicqr4Han"
      },
      "source": [
        "para calcular las métricas de ROUGE usaremos la biblioteca de rouge disponible para la instalación a través de pip."
      ]
    },
    {
      "cell_type": "code",
      "execution_count": 94,
      "metadata": {
        "colab": {
          "base_uri": "https://localhost:8080/"
        },
        "id": "3k1ph_l2q0nL",
        "outputId": "624cb33c-e318-4a93-d463-9e00da4c1920"
      },
      "outputs": [
        {
          "output_type": "stream",
          "name": "stdout",
          "text": [
            "Looking in indexes: https://pypi.org/simple, https://us-python.pkg.dev/colab-wheels/public/simple/\n",
            "Requirement already satisfied: rouge in /usr/local/lib/python3.7/dist-packages (1.0.1)\n",
            "Requirement already satisfied: six in /usr/local/lib/python3.7/dist-packages (from rouge) (1.15.0)\n"
          ]
        }
      ],
      "source": [
        "# instalando lib rouge. Observe que se elija la versión 1.0.1.\n",
        "!pip install rouge"
      ]
    },
    {
      "cell_type": "markdown",
      "metadata": {
        "id": "4oQEFcNv9F_E"
      },
      "source": [
        "La función get_scores recupera las métricas definidas en el parámetro:"
      ]
    },
    {
      "cell_type": "code",
      "execution_count": 95,
      "metadata": {
        "colab": {
          "base_uri": "https://localhost:8080/"
        },
        "id": "AM7HHPJUrM1n",
        "outputId": "f55b4226-2826-4123-a5ea-d41350a3cd91"
      },
      "outputs": [
        {
          "output_type": "execute_result",
          "data": {
            "text/plain": [
              "{'rouge-1': {'f': 0.5936264106633103,\n",
              "  'p': 0.8976772413802734,\n",
              "  'r': 0.47202342652237333},\n",
              " 'rouge-2': {'f': 0.49387006852081283,\n",
              "  'p': 0.786496669720652,\n",
              "  'r': 0.3904743596292433},\n",
              " 'rouge-l': {'f': 0.5901728825125092,\n",
              "  'p': 0.890735296467876,\n",
              "  'r': 0.4696493137575506}}"
            ]
          },
          "metadata": {},
          "execution_count": 95
        }
      ],
      "source": [
        "# calcular métricas rouge para todo el conjunto de datos\n",
        "from rouge import Rouge\n",
        "rouge = Rouge(metrics=['rouge-1', 'rouge-2', 'rouge-l'])\n",
        "# rouge = Rouge(metrics=['rouge-n', 'rouge-l', 'rouge-w'])\n",
        "\n",
        "# el parámetro avg=True calcula el promedio del conjunto de datos\n",
        "rouge.get_scores(df_articles.generated_summary.values,\n",
        "                 df_articles.document.values, \n",
        "                 avg=True)"
      ]
    },
    {
      "cell_type": "markdown",
      "metadata": {
        "id": "DDH97Bwp1Kcs"
      },
      "source": [
        "###**5.2 - Conclusión**"
      ]
    },
    {
      "cell_type": "markdown",
      "metadata": {
        "id": "5jvAXLsr5A5E"
      },
      "source": [
        "Al observar las tres métricas, notamos que la precisión tiene un resultado cercano a 1 (cuanto más cercano a 1, mejor), es decir, el modelo está encontrando grandes partes de los n-gramas coincidentes en el texto de referencia y en el resumen. Si consideramos el rouge-2 podemos ver una precisión de 0.7853.\n",
        "\n",
        "Sin embargo, el recuerdo es bajo, lo que indica que el número de n-gramas presentes en los dos textos comparativos (modelo y referencia) están muy por debajo de los n-grans del texto de referencia. Esto se debe al hecho de que los artículos elegidos para nuestro conjunto de datos son textos extensos.\n",
        "\n",
        "El resultado parece satisfactorio, ya que los bachmarks con métodos de resumen extractivo tienen valores de rouge y f1 cercanos a estos."
      ]
    }
  ],
  "metadata": {
    "colab": {
      "collapsed_sections": [],
      "name": "text_summarization_lucas.ipynb",
      "provenance": [],
      "include_colab_link": true
    },
    "kernelspec": {
      "display_name": "Python 3",
      "name": "python3"
    },
    "widgets": {
      "application/vnd.jupyter.widget-state+json": {
        "bf33e3ce518249adb6204eab54ed9ad7": {
          "model_module": "@jupyter-widgets/controls",
          "model_name": "HBoxModel",
          "model_module_version": "1.5.0",
          "state": {
            "_dom_classes": [],
            "_model_module": "@jupyter-widgets/controls",
            "_model_module_version": "1.5.0",
            "_model_name": "HBoxModel",
            "_view_count": null,
            "_view_module": "@jupyter-widgets/controls",
            "_view_module_version": "1.5.0",
            "_view_name": "HBoxView",
            "box_style": "",
            "children": [
              "IPY_MODEL_bed4eab835b94a0abc719b1858f51adc",
              "IPY_MODEL_cd31b80b32924bd2b2689c5d19f13af4",
              "IPY_MODEL_2cfdc08cc9fe43268ceca70f1b519ffc"
            ],
            "layout": "IPY_MODEL_2f50baecd4ec4be1a32d40ae133f88aa"
          }
        },
        "bed4eab835b94a0abc719b1858f51adc": {
          "model_module": "@jupyter-widgets/controls",
          "model_name": "HTMLModel",
          "model_module_version": "1.5.0",
          "state": {
            "_dom_classes": [],
            "_model_module": "@jupyter-widgets/controls",
            "_model_module_version": "1.5.0",
            "_model_name": "HTMLModel",
            "_view_count": null,
            "_view_module": "@jupyter-widgets/controls",
            "_view_module_version": "1.5.0",
            "_view_name": "HTMLView",
            "description": "",
            "description_tooltip": null,
            "layout": "IPY_MODEL_3812415bd0af46d7a8a05c8108787732",
            "placeholder": "​",
            "style": "IPY_MODEL_e5e13a6b5e994346bb973ac11cfd9b12",
            "value": "100%"
          }
        },
        "cd31b80b32924bd2b2689c5d19f13af4": {
          "model_module": "@jupyter-widgets/controls",
          "model_name": "FloatProgressModel",
          "model_module_version": "1.5.0",
          "state": {
            "_dom_classes": [],
            "_model_module": "@jupyter-widgets/controls",
            "_model_module_version": "1.5.0",
            "_model_name": "FloatProgressModel",
            "_view_count": null,
            "_view_module": "@jupyter-widgets/controls",
            "_view_module_version": "1.5.0",
            "_view_name": "ProgressView",
            "bar_style": "success",
            "description": "",
            "description_tooltip": null,
            "layout": "IPY_MODEL_4ec22a2805a744e58ba63d4e7aa1fcc7",
            "max": 564,
            "min": 0,
            "orientation": "horizontal",
            "style": "IPY_MODEL_36b88106b96b40cf89d5e437f6d13aee",
            "value": 564
          }
        },
        "2cfdc08cc9fe43268ceca70f1b519ffc": {
          "model_module": "@jupyter-widgets/controls",
          "model_name": "HTMLModel",
          "model_module_version": "1.5.0",
          "state": {
            "_dom_classes": [],
            "_model_module": "@jupyter-widgets/controls",
            "_model_module_version": "1.5.0",
            "_model_name": "HTMLModel",
            "_view_count": null,
            "_view_module": "@jupyter-widgets/controls",
            "_view_module_version": "1.5.0",
            "_view_name": "HTMLView",
            "description": "",
            "description_tooltip": null,
            "layout": "IPY_MODEL_dcce660296224b71833b341952f7c339",
            "placeholder": "​",
            "style": "IPY_MODEL_e6def37072324134a5fd2ff0991d707f",
            "value": " 564/564 [00:00&lt;00:00, 6961.38it/s]"
          }
        },
        "2f50baecd4ec4be1a32d40ae133f88aa": {
          "model_module": "@jupyter-widgets/base",
          "model_name": "LayoutModel",
          "model_module_version": "1.2.0",
          "state": {
            "_model_module": "@jupyter-widgets/base",
            "_model_module_version": "1.2.0",
            "_model_name": "LayoutModel",
            "_view_count": null,
            "_view_module": "@jupyter-widgets/base",
            "_view_module_version": "1.2.0",
            "_view_name": "LayoutView",
            "align_content": null,
            "align_items": null,
            "align_self": null,
            "border": null,
            "bottom": null,
            "display": null,
            "flex": null,
            "flex_flow": null,
            "grid_area": null,
            "grid_auto_columns": null,
            "grid_auto_flow": null,
            "grid_auto_rows": null,
            "grid_column": null,
            "grid_gap": null,
            "grid_row": null,
            "grid_template_areas": null,
            "grid_template_columns": null,
            "grid_template_rows": null,
            "height": null,
            "justify_content": null,
            "justify_items": null,
            "left": null,
            "margin": null,
            "max_height": null,
            "max_width": null,
            "min_height": null,
            "min_width": null,
            "object_fit": null,
            "object_position": null,
            "order": null,
            "overflow": null,
            "overflow_x": null,
            "overflow_y": null,
            "padding": null,
            "right": null,
            "top": null,
            "visibility": null,
            "width": null
          }
        },
        "3812415bd0af46d7a8a05c8108787732": {
          "model_module": "@jupyter-widgets/base",
          "model_name": "LayoutModel",
          "model_module_version": "1.2.0",
          "state": {
            "_model_module": "@jupyter-widgets/base",
            "_model_module_version": "1.2.0",
            "_model_name": "LayoutModel",
            "_view_count": null,
            "_view_module": "@jupyter-widgets/base",
            "_view_module_version": "1.2.0",
            "_view_name": "LayoutView",
            "align_content": null,
            "align_items": null,
            "align_self": null,
            "border": null,
            "bottom": null,
            "display": null,
            "flex": null,
            "flex_flow": null,
            "grid_area": null,
            "grid_auto_columns": null,
            "grid_auto_flow": null,
            "grid_auto_rows": null,
            "grid_column": null,
            "grid_gap": null,
            "grid_row": null,
            "grid_template_areas": null,
            "grid_template_columns": null,
            "grid_template_rows": null,
            "height": null,
            "justify_content": null,
            "justify_items": null,
            "left": null,
            "margin": null,
            "max_height": null,
            "max_width": null,
            "min_height": null,
            "min_width": null,
            "object_fit": null,
            "object_position": null,
            "order": null,
            "overflow": null,
            "overflow_x": null,
            "overflow_y": null,
            "padding": null,
            "right": null,
            "top": null,
            "visibility": null,
            "width": null
          }
        },
        "e5e13a6b5e994346bb973ac11cfd9b12": {
          "model_module": "@jupyter-widgets/controls",
          "model_name": "DescriptionStyleModel",
          "model_module_version": "1.5.0",
          "state": {
            "_model_module": "@jupyter-widgets/controls",
            "_model_module_version": "1.5.0",
            "_model_name": "DescriptionStyleModel",
            "_view_count": null,
            "_view_module": "@jupyter-widgets/base",
            "_view_module_version": "1.2.0",
            "_view_name": "StyleView",
            "description_width": ""
          }
        },
        "4ec22a2805a744e58ba63d4e7aa1fcc7": {
          "model_module": "@jupyter-widgets/base",
          "model_name": "LayoutModel",
          "model_module_version": "1.2.0",
          "state": {
            "_model_module": "@jupyter-widgets/base",
            "_model_module_version": "1.2.0",
            "_model_name": "LayoutModel",
            "_view_count": null,
            "_view_module": "@jupyter-widgets/base",
            "_view_module_version": "1.2.0",
            "_view_name": "LayoutView",
            "align_content": null,
            "align_items": null,
            "align_self": null,
            "border": null,
            "bottom": null,
            "display": null,
            "flex": null,
            "flex_flow": null,
            "grid_area": null,
            "grid_auto_columns": null,
            "grid_auto_flow": null,
            "grid_auto_rows": null,
            "grid_column": null,
            "grid_gap": null,
            "grid_row": null,
            "grid_template_areas": null,
            "grid_template_columns": null,
            "grid_template_rows": null,
            "height": null,
            "justify_content": null,
            "justify_items": null,
            "left": null,
            "margin": null,
            "max_height": null,
            "max_width": null,
            "min_height": null,
            "min_width": null,
            "object_fit": null,
            "object_position": null,
            "order": null,
            "overflow": null,
            "overflow_x": null,
            "overflow_y": null,
            "padding": null,
            "right": null,
            "top": null,
            "visibility": null,
            "width": null
          }
        },
        "36b88106b96b40cf89d5e437f6d13aee": {
          "model_module": "@jupyter-widgets/controls",
          "model_name": "ProgressStyleModel",
          "model_module_version": "1.5.0",
          "state": {
            "_model_module": "@jupyter-widgets/controls",
            "_model_module_version": "1.5.0",
            "_model_name": "ProgressStyleModel",
            "_view_count": null,
            "_view_module": "@jupyter-widgets/base",
            "_view_module_version": "1.2.0",
            "_view_name": "StyleView",
            "bar_color": null,
            "description_width": ""
          }
        },
        "dcce660296224b71833b341952f7c339": {
          "model_module": "@jupyter-widgets/base",
          "model_name": "LayoutModel",
          "model_module_version": "1.2.0",
          "state": {
            "_model_module": "@jupyter-widgets/base",
            "_model_module_version": "1.2.0",
            "_model_name": "LayoutModel",
            "_view_count": null,
            "_view_module": "@jupyter-widgets/base",
            "_view_module_version": "1.2.0",
            "_view_name": "LayoutView",
            "align_content": null,
            "align_items": null,
            "align_self": null,
            "border": null,
            "bottom": null,
            "display": null,
            "flex": null,
            "flex_flow": null,
            "grid_area": null,
            "grid_auto_columns": null,
            "grid_auto_flow": null,
            "grid_auto_rows": null,
            "grid_column": null,
            "grid_gap": null,
            "grid_row": null,
            "grid_template_areas": null,
            "grid_template_columns": null,
            "grid_template_rows": null,
            "height": null,
            "justify_content": null,
            "justify_items": null,
            "left": null,
            "margin": null,
            "max_height": null,
            "max_width": null,
            "min_height": null,
            "min_width": null,
            "object_fit": null,
            "object_position": null,
            "order": null,
            "overflow": null,
            "overflow_x": null,
            "overflow_y": null,
            "padding": null,
            "right": null,
            "top": null,
            "visibility": null,
            "width": null
          }
        },
        "e6def37072324134a5fd2ff0991d707f": {
          "model_module": "@jupyter-widgets/controls",
          "model_name": "DescriptionStyleModel",
          "model_module_version": "1.5.0",
          "state": {
            "_model_module": "@jupyter-widgets/controls",
            "_model_module_version": "1.5.0",
            "_model_name": "DescriptionStyleModel",
            "_view_count": null,
            "_view_module": "@jupyter-widgets/base",
            "_view_module_version": "1.2.0",
            "_view_name": "StyleView",
            "description_width": ""
          }
        },
        "21c759d1c00f45a4ada4e15e1fd83819": {
          "model_module": "@jupyter-widgets/controls",
          "model_name": "HBoxModel",
          "model_module_version": "1.5.0",
          "state": {
            "_dom_classes": [],
            "_model_module": "@jupyter-widgets/controls",
            "_model_module_version": "1.5.0",
            "_model_name": "HBoxModel",
            "_view_count": null,
            "_view_module": "@jupyter-widgets/controls",
            "_view_module_version": "1.5.0",
            "_view_name": "HBoxView",
            "box_style": "",
            "children": [
              "IPY_MODEL_8c01231a865f44cebd55d917a33cccbd",
              "IPY_MODEL_a7bc4538ed40441cb82bf7582058558f",
              "IPY_MODEL_03b7815c441449f0ac76c90fc03f6325"
            ],
            "layout": "IPY_MODEL_5fad64ec87e74bb99150a76b0f758be8"
          }
        },
        "8c01231a865f44cebd55d917a33cccbd": {
          "model_module": "@jupyter-widgets/controls",
          "model_name": "HTMLModel",
          "model_module_version": "1.5.0",
          "state": {
            "_dom_classes": [],
            "_model_module": "@jupyter-widgets/controls",
            "_model_module_version": "1.5.0",
            "_model_name": "HTMLModel",
            "_view_count": null,
            "_view_module": "@jupyter-widgets/controls",
            "_view_module_version": "1.5.0",
            "_view_name": "HTMLView",
            "description": "",
            "description_tooltip": null,
            "layout": "IPY_MODEL_cd693078370f4999bfe447843b6383ed",
            "placeholder": "​",
            "style": "IPY_MODEL_3b7f6170febc4167aa6b3f445254fcc7",
            "value": "100%"
          }
        },
        "a7bc4538ed40441cb82bf7582058558f": {
          "model_module": "@jupyter-widgets/controls",
          "model_name": "FloatProgressModel",
          "model_module_version": "1.5.0",
          "state": {
            "_dom_classes": [],
            "_model_module": "@jupyter-widgets/controls",
            "_model_module_version": "1.5.0",
            "_model_name": "FloatProgressModel",
            "_view_count": null,
            "_view_module": "@jupyter-widgets/controls",
            "_view_module_version": "1.5.0",
            "_view_name": "ProgressView",
            "bar_style": "success",
            "description": "",
            "description_tooltip": null,
            "layout": "IPY_MODEL_56123c3f0c5b426cae836882e1742956",
            "max": 564,
            "min": 0,
            "orientation": "horizontal",
            "style": "IPY_MODEL_9ad066651da843cdae7bb23f7f732e4f",
            "value": 564
          }
        },
        "03b7815c441449f0ac76c90fc03f6325": {
          "model_module": "@jupyter-widgets/controls",
          "model_name": "HTMLModel",
          "model_module_version": "1.5.0",
          "state": {
            "_dom_classes": [],
            "_model_module": "@jupyter-widgets/controls",
            "_model_module_version": "1.5.0",
            "_model_name": "HTMLModel",
            "_view_count": null,
            "_view_module": "@jupyter-widgets/controls",
            "_view_module_version": "1.5.0",
            "_view_name": "HTMLView",
            "description": "",
            "description_tooltip": null,
            "layout": "IPY_MODEL_fd0702b9383d433787926875f2408599",
            "placeholder": "​",
            "style": "IPY_MODEL_da386d03db9146d38c7175409af9009f",
            "value": " 564/564 [01:13&lt;00:00, 14.02it/s]"
          }
        },
        "5fad64ec87e74bb99150a76b0f758be8": {
          "model_module": "@jupyter-widgets/base",
          "model_name": "LayoutModel",
          "model_module_version": "1.2.0",
          "state": {
            "_model_module": "@jupyter-widgets/base",
            "_model_module_version": "1.2.0",
            "_model_name": "LayoutModel",
            "_view_count": null,
            "_view_module": "@jupyter-widgets/base",
            "_view_module_version": "1.2.0",
            "_view_name": "LayoutView",
            "align_content": null,
            "align_items": null,
            "align_self": null,
            "border": null,
            "bottom": null,
            "display": null,
            "flex": null,
            "flex_flow": null,
            "grid_area": null,
            "grid_auto_columns": null,
            "grid_auto_flow": null,
            "grid_auto_rows": null,
            "grid_column": null,
            "grid_gap": null,
            "grid_row": null,
            "grid_template_areas": null,
            "grid_template_columns": null,
            "grid_template_rows": null,
            "height": null,
            "justify_content": null,
            "justify_items": null,
            "left": null,
            "margin": null,
            "max_height": null,
            "max_width": null,
            "min_height": null,
            "min_width": null,
            "object_fit": null,
            "object_position": null,
            "order": null,
            "overflow": null,
            "overflow_x": null,
            "overflow_y": null,
            "padding": null,
            "right": null,
            "top": null,
            "visibility": null,
            "width": null
          }
        },
        "cd693078370f4999bfe447843b6383ed": {
          "model_module": "@jupyter-widgets/base",
          "model_name": "LayoutModel",
          "model_module_version": "1.2.0",
          "state": {
            "_model_module": "@jupyter-widgets/base",
            "_model_module_version": "1.2.0",
            "_model_name": "LayoutModel",
            "_view_count": null,
            "_view_module": "@jupyter-widgets/base",
            "_view_module_version": "1.2.0",
            "_view_name": "LayoutView",
            "align_content": null,
            "align_items": null,
            "align_self": null,
            "border": null,
            "bottom": null,
            "display": null,
            "flex": null,
            "flex_flow": null,
            "grid_area": null,
            "grid_auto_columns": null,
            "grid_auto_flow": null,
            "grid_auto_rows": null,
            "grid_column": null,
            "grid_gap": null,
            "grid_row": null,
            "grid_template_areas": null,
            "grid_template_columns": null,
            "grid_template_rows": null,
            "height": null,
            "justify_content": null,
            "justify_items": null,
            "left": null,
            "margin": null,
            "max_height": null,
            "max_width": null,
            "min_height": null,
            "min_width": null,
            "object_fit": null,
            "object_position": null,
            "order": null,
            "overflow": null,
            "overflow_x": null,
            "overflow_y": null,
            "padding": null,
            "right": null,
            "top": null,
            "visibility": null,
            "width": null
          }
        },
        "3b7f6170febc4167aa6b3f445254fcc7": {
          "model_module": "@jupyter-widgets/controls",
          "model_name": "DescriptionStyleModel",
          "model_module_version": "1.5.0",
          "state": {
            "_model_module": "@jupyter-widgets/controls",
            "_model_module_version": "1.5.0",
            "_model_name": "DescriptionStyleModel",
            "_view_count": null,
            "_view_module": "@jupyter-widgets/base",
            "_view_module_version": "1.2.0",
            "_view_name": "StyleView",
            "description_width": ""
          }
        },
        "56123c3f0c5b426cae836882e1742956": {
          "model_module": "@jupyter-widgets/base",
          "model_name": "LayoutModel",
          "model_module_version": "1.2.0",
          "state": {
            "_model_module": "@jupyter-widgets/base",
            "_model_module_version": "1.2.0",
            "_model_name": "LayoutModel",
            "_view_count": null,
            "_view_module": "@jupyter-widgets/base",
            "_view_module_version": "1.2.0",
            "_view_name": "LayoutView",
            "align_content": null,
            "align_items": null,
            "align_self": null,
            "border": null,
            "bottom": null,
            "display": null,
            "flex": null,
            "flex_flow": null,
            "grid_area": null,
            "grid_auto_columns": null,
            "grid_auto_flow": null,
            "grid_auto_rows": null,
            "grid_column": null,
            "grid_gap": null,
            "grid_row": null,
            "grid_template_areas": null,
            "grid_template_columns": null,
            "grid_template_rows": null,
            "height": null,
            "justify_content": null,
            "justify_items": null,
            "left": null,
            "margin": null,
            "max_height": null,
            "max_width": null,
            "min_height": null,
            "min_width": null,
            "object_fit": null,
            "object_position": null,
            "order": null,
            "overflow": null,
            "overflow_x": null,
            "overflow_y": null,
            "padding": null,
            "right": null,
            "top": null,
            "visibility": null,
            "width": null
          }
        },
        "9ad066651da843cdae7bb23f7f732e4f": {
          "model_module": "@jupyter-widgets/controls",
          "model_name": "ProgressStyleModel",
          "model_module_version": "1.5.0",
          "state": {
            "_model_module": "@jupyter-widgets/controls",
            "_model_module_version": "1.5.0",
            "_model_name": "ProgressStyleModel",
            "_view_count": null,
            "_view_module": "@jupyter-widgets/base",
            "_view_module_version": "1.2.0",
            "_view_name": "StyleView",
            "bar_color": null,
            "description_width": ""
          }
        },
        "fd0702b9383d433787926875f2408599": {
          "model_module": "@jupyter-widgets/base",
          "model_name": "LayoutModel",
          "model_module_version": "1.2.0",
          "state": {
            "_model_module": "@jupyter-widgets/base",
            "_model_module_version": "1.2.0",
            "_model_name": "LayoutModel",
            "_view_count": null,
            "_view_module": "@jupyter-widgets/base",
            "_view_module_version": "1.2.0",
            "_view_name": "LayoutView",
            "align_content": null,
            "align_items": null,
            "align_self": null,
            "border": null,
            "bottom": null,
            "display": null,
            "flex": null,
            "flex_flow": null,
            "grid_area": null,
            "grid_auto_columns": null,
            "grid_auto_flow": null,
            "grid_auto_rows": null,
            "grid_column": null,
            "grid_gap": null,
            "grid_row": null,
            "grid_template_areas": null,
            "grid_template_columns": null,
            "grid_template_rows": null,
            "height": null,
            "justify_content": null,
            "justify_items": null,
            "left": null,
            "margin": null,
            "max_height": null,
            "max_width": null,
            "min_height": null,
            "min_width": null,
            "object_fit": null,
            "object_position": null,
            "order": null,
            "overflow": null,
            "overflow_x": null,
            "overflow_y": null,
            "padding": null,
            "right": null,
            "top": null,
            "visibility": null,
            "width": null
          }
        },
        "da386d03db9146d38c7175409af9009f": {
          "model_module": "@jupyter-widgets/controls",
          "model_name": "DescriptionStyleModel",
          "model_module_version": "1.5.0",
          "state": {
            "_model_module": "@jupyter-widgets/controls",
            "_model_module_version": "1.5.0",
            "_model_name": "DescriptionStyleModel",
            "_view_count": null,
            "_view_module": "@jupyter-widgets/base",
            "_view_module_version": "1.2.0",
            "_view_name": "StyleView",
            "description_width": ""
          }
        },
        "063bd4f10841458181f070de3f5e83d7": {
          "model_module": "@jupyter-widgets/controls",
          "model_name": "HBoxModel",
          "model_module_version": "1.5.0",
          "state": {
            "_dom_classes": [],
            "_model_module": "@jupyter-widgets/controls",
            "_model_module_version": "1.5.0",
            "_model_name": "HBoxModel",
            "_view_count": null,
            "_view_module": "@jupyter-widgets/controls",
            "_view_module_version": "1.5.0",
            "_view_name": "HBoxView",
            "box_style": "",
            "children": [
              "IPY_MODEL_fd4d33510d654c57b0986df0c9731cd7",
              "IPY_MODEL_d82eecb698064549b225974542bbb717",
              "IPY_MODEL_86a18d3fb3ef456da910704e6f6de085"
            ],
            "layout": "IPY_MODEL_60be9c443f384bc4b97aefa3f9f4470f"
          }
        },
        "fd4d33510d654c57b0986df0c9731cd7": {
          "model_module": "@jupyter-widgets/controls",
          "model_name": "HTMLModel",
          "model_module_version": "1.5.0",
          "state": {
            "_dom_classes": [],
            "_model_module": "@jupyter-widgets/controls",
            "_model_module_version": "1.5.0",
            "_model_name": "HTMLModel",
            "_view_count": null,
            "_view_module": "@jupyter-widgets/controls",
            "_view_module_version": "1.5.0",
            "_view_name": "HTMLView",
            "description": "",
            "description_tooltip": null,
            "layout": "IPY_MODEL_af778aa132104f028701733297f6c88b",
            "placeholder": "​",
            "style": "IPY_MODEL_6abb1de49a9c4e02aae4af132f1856b6",
            "value": "100%"
          }
        },
        "d82eecb698064549b225974542bbb717": {
          "model_module": "@jupyter-widgets/controls",
          "model_name": "FloatProgressModel",
          "model_module_version": "1.5.0",
          "state": {
            "_dom_classes": [],
            "_model_module": "@jupyter-widgets/controls",
            "_model_module_version": "1.5.0",
            "_model_name": "FloatProgressModel",
            "_view_count": null,
            "_view_module": "@jupyter-widgets/controls",
            "_view_module_version": "1.5.0",
            "_view_name": "ProgressView",
            "bar_style": "success",
            "description": "",
            "description_tooltip": null,
            "layout": "IPY_MODEL_ddf9382ac80d4131ab5fcfdea2073605",
            "max": 564,
            "min": 0,
            "orientation": "horizontal",
            "style": "IPY_MODEL_361137cfd9fc4750a085ccccd0691f9c",
            "value": 564
          }
        },
        "86a18d3fb3ef456da910704e6f6de085": {
          "model_module": "@jupyter-widgets/controls",
          "model_name": "HTMLModel",
          "model_module_version": "1.5.0",
          "state": {
            "_dom_classes": [],
            "_model_module": "@jupyter-widgets/controls",
            "_model_module_version": "1.5.0",
            "_model_name": "HTMLModel",
            "_view_count": null,
            "_view_module": "@jupyter-widgets/controls",
            "_view_module_version": "1.5.0",
            "_view_name": "HTMLView",
            "description": "",
            "description_tooltip": null,
            "layout": "IPY_MODEL_8b95660b4769491aadcdbaad28b616cb",
            "placeholder": "​",
            "style": "IPY_MODEL_8ac47170a53b4903bdd43f7c7a42ed36",
            "value": " 564/564 [01:10&lt;00:00,  8.60it/s]"
          }
        },
        "60be9c443f384bc4b97aefa3f9f4470f": {
          "model_module": "@jupyter-widgets/base",
          "model_name": "LayoutModel",
          "model_module_version": "1.2.0",
          "state": {
            "_model_module": "@jupyter-widgets/base",
            "_model_module_version": "1.2.0",
            "_model_name": "LayoutModel",
            "_view_count": null,
            "_view_module": "@jupyter-widgets/base",
            "_view_module_version": "1.2.0",
            "_view_name": "LayoutView",
            "align_content": null,
            "align_items": null,
            "align_self": null,
            "border": null,
            "bottom": null,
            "display": null,
            "flex": null,
            "flex_flow": null,
            "grid_area": null,
            "grid_auto_columns": null,
            "grid_auto_flow": null,
            "grid_auto_rows": null,
            "grid_column": null,
            "grid_gap": null,
            "grid_row": null,
            "grid_template_areas": null,
            "grid_template_columns": null,
            "grid_template_rows": null,
            "height": null,
            "justify_content": null,
            "justify_items": null,
            "left": null,
            "margin": null,
            "max_height": null,
            "max_width": null,
            "min_height": null,
            "min_width": null,
            "object_fit": null,
            "object_position": null,
            "order": null,
            "overflow": null,
            "overflow_x": null,
            "overflow_y": null,
            "padding": null,
            "right": null,
            "top": null,
            "visibility": null,
            "width": null
          }
        },
        "af778aa132104f028701733297f6c88b": {
          "model_module": "@jupyter-widgets/base",
          "model_name": "LayoutModel",
          "model_module_version": "1.2.0",
          "state": {
            "_model_module": "@jupyter-widgets/base",
            "_model_module_version": "1.2.0",
            "_model_name": "LayoutModel",
            "_view_count": null,
            "_view_module": "@jupyter-widgets/base",
            "_view_module_version": "1.2.0",
            "_view_name": "LayoutView",
            "align_content": null,
            "align_items": null,
            "align_self": null,
            "border": null,
            "bottom": null,
            "display": null,
            "flex": null,
            "flex_flow": null,
            "grid_area": null,
            "grid_auto_columns": null,
            "grid_auto_flow": null,
            "grid_auto_rows": null,
            "grid_column": null,
            "grid_gap": null,
            "grid_row": null,
            "grid_template_areas": null,
            "grid_template_columns": null,
            "grid_template_rows": null,
            "height": null,
            "justify_content": null,
            "justify_items": null,
            "left": null,
            "margin": null,
            "max_height": null,
            "max_width": null,
            "min_height": null,
            "min_width": null,
            "object_fit": null,
            "object_position": null,
            "order": null,
            "overflow": null,
            "overflow_x": null,
            "overflow_y": null,
            "padding": null,
            "right": null,
            "top": null,
            "visibility": null,
            "width": null
          }
        },
        "6abb1de49a9c4e02aae4af132f1856b6": {
          "model_module": "@jupyter-widgets/controls",
          "model_name": "DescriptionStyleModel",
          "model_module_version": "1.5.0",
          "state": {
            "_model_module": "@jupyter-widgets/controls",
            "_model_module_version": "1.5.0",
            "_model_name": "DescriptionStyleModel",
            "_view_count": null,
            "_view_module": "@jupyter-widgets/base",
            "_view_module_version": "1.2.0",
            "_view_name": "StyleView",
            "description_width": ""
          }
        },
        "ddf9382ac80d4131ab5fcfdea2073605": {
          "model_module": "@jupyter-widgets/base",
          "model_name": "LayoutModel",
          "model_module_version": "1.2.0",
          "state": {
            "_model_module": "@jupyter-widgets/base",
            "_model_module_version": "1.2.0",
            "_model_name": "LayoutModel",
            "_view_count": null,
            "_view_module": "@jupyter-widgets/base",
            "_view_module_version": "1.2.0",
            "_view_name": "LayoutView",
            "align_content": null,
            "align_items": null,
            "align_self": null,
            "border": null,
            "bottom": null,
            "display": null,
            "flex": null,
            "flex_flow": null,
            "grid_area": null,
            "grid_auto_columns": null,
            "grid_auto_flow": null,
            "grid_auto_rows": null,
            "grid_column": null,
            "grid_gap": null,
            "grid_row": null,
            "grid_template_areas": null,
            "grid_template_columns": null,
            "grid_template_rows": null,
            "height": null,
            "justify_content": null,
            "justify_items": null,
            "left": null,
            "margin": null,
            "max_height": null,
            "max_width": null,
            "min_height": null,
            "min_width": null,
            "object_fit": null,
            "object_position": null,
            "order": null,
            "overflow": null,
            "overflow_x": null,
            "overflow_y": null,
            "padding": null,
            "right": null,
            "top": null,
            "visibility": null,
            "width": null
          }
        },
        "361137cfd9fc4750a085ccccd0691f9c": {
          "model_module": "@jupyter-widgets/controls",
          "model_name": "ProgressStyleModel",
          "model_module_version": "1.5.0",
          "state": {
            "_model_module": "@jupyter-widgets/controls",
            "_model_module_version": "1.5.0",
            "_model_name": "ProgressStyleModel",
            "_view_count": null,
            "_view_module": "@jupyter-widgets/base",
            "_view_module_version": "1.2.0",
            "_view_name": "StyleView",
            "bar_color": null,
            "description_width": ""
          }
        },
        "8b95660b4769491aadcdbaad28b616cb": {
          "model_module": "@jupyter-widgets/base",
          "model_name": "LayoutModel",
          "model_module_version": "1.2.0",
          "state": {
            "_model_module": "@jupyter-widgets/base",
            "_model_module_version": "1.2.0",
            "_model_name": "LayoutModel",
            "_view_count": null,
            "_view_module": "@jupyter-widgets/base",
            "_view_module_version": "1.2.0",
            "_view_name": "LayoutView",
            "align_content": null,
            "align_items": null,
            "align_self": null,
            "border": null,
            "bottom": null,
            "display": null,
            "flex": null,
            "flex_flow": null,
            "grid_area": null,
            "grid_auto_columns": null,
            "grid_auto_flow": null,
            "grid_auto_rows": null,
            "grid_column": null,
            "grid_gap": null,
            "grid_row": null,
            "grid_template_areas": null,
            "grid_template_columns": null,
            "grid_template_rows": null,
            "height": null,
            "justify_content": null,
            "justify_items": null,
            "left": null,
            "margin": null,
            "max_height": null,
            "max_width": null,
            "min_height": null,
            "min_width": null,
            "object_fit": null,
            "object_position": null,
            "order": null,
            "overflow": null,
            "overflow_x": null,
            "overflow_y": null,
            "padding": null,
            "right": null,
            "top": null,
            "visibility": null,
            "width": null
          }
        },
        "8ac47170a53b4903bdd43f7c7a42ed36": {
          "model_module": "@jupyter-widgets/controls",
          "model_name": "DescriptionStyleModel",
          "model_module_version": "1.5.0",
          "state": {
            "_model_module": "@jupyter-widgets/controls",
            "_model_module_version": "1.5.0",
            "_model_name": "DescriptionStyleModel",
            "_view_count": null,
            "_view_module": "@jupyter-widgets/base",
            "_view_module_version": "1.2.0",
            "_view_name": "StyleView",
            "description_width": ""
          }
        }
      }
    }
  },
  "nbformat": 4,
  "nbformat_minor": 0
}